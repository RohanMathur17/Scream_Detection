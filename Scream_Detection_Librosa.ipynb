{
  "nbformat": 4,
  "nbformat_minor": 0,
  "metadata": {
    "colab": {
      "name": "Scream_Detection_Librosa.ipynb",
      "provenance": [],
      "collapsed_sections": [],
      "include_colab_link": true
    },
    "kernelspec": {
      "name": "python3",
      "display_name": "Python 3"
    },
    "language_info": {
      "name": "python"
    },
    "accelerator": "GPU"
  },
  "cells": [
    {
      "cell_type": "markdown",
      "metadata": {
        "id": "view-in-github",
        "colab_type": "text"
      },
      "source": [
        "<a href=\"https://colab.research.google.com/github/RohanMathur17/Scream_Detection/blob/main/Scream_Detection_Librosa.ipynb\" target=\"_parent\"><img src=\"https://colab.research.google.com/assets/colab-badge.svg\" alt=\"Open In Colab\"/></a>"
      ]
    },
    {
      "cell_type": "code",
      "execution_count": 1,
      "metadata": {
        "colab": {
          "base_uri": "https://localhost:8080/"
        },
        "id": "5-vwHsws8II_",
        "outputId": "35eb6378-5042-43ce-e255-85e1095982d9"
      },
      "outputs": [
        {
          "output_type": "stream",
          "name": "stdout",
          "text": [
            "Mounted at /content/gdrive\n"
          ]
        }
      ],
      "source": [
        "from google.colab import drive\n",
        "drive.mount('/content/gdrive')"
      ]
    },
    {
      "cell_type": "code",
      "source": [
        "!pip install -q pydub"
      ],
      "metadata": {
        "id": "ngpLdsgI8QM4"
      },
      "execution_count": 2,
      "outputs": []
    },
    {
      "cell_type": "code",
      "source": [
        "import tensorflow as tf\n",
        "import tensorflow_datasets as tfds\n",
        "from tensorflow.keras.layers import Input, Lambda, Conv2D, BatchNormalization\n",
        "from tensorflow.keras.layers import Activation, MaxPool2D, Flatten, Dropout, Dense\n",
        "from tensorflow.keras.models import Sequential\n",
        "from sklearn.metrics import classification_report\n",
        "from tensorflow.keras.layers import Dense,Dropout,Activation,Flatten\n",
        "from sklearn.preprocessing import LabelBinarizer\n",
        "from tensorflow.keras.optimizers import Adam\n",
        "from sklearn import metrics\n",
        "from IPython.display import Audio\n",
        "from matplotlib import pyplot as plt\n",
        "from tqdm import tqdm\n",
        "import os\n",
        "import numpy as np\n",
        "from scipy.io import wavfile \n",
        "import librosa\n",
        "import pydub\n",
        "import pandas as pd"
      ],
      "metadata": {
        "id": "WhnwQTaC8frr"
      },
      "execution_count": 51,
      "outputs": []
    },
    {
      "cell_type": "markdown",
      "source": [
        "# Getting Data "
      ],
      "metadata": {
        "id": "YNfY-2ws8sL_"
      }
    },
    {
      "cell_type": "code",
      "source": [
        "def features_extractor(file_name):\n",
        "    audio, sample_rate = librosa.load(file_name, res_type='kaiser_fast') #loading audio files, #sample rate- numerical int value of each music file\n",
        "    mfccs_features = librosa.feature.mfcc(y=audio, sr=sample_rate, n_mfcc=40) #spectogram? feature engineering for audio\n",
        "    mfccs_scaled_features = np.mean(mfccs_features.T,axis=0) #scaling, mean , standardization?\n",
        "    \n",
        "    return mfccs_scaled_features"
      ],
      "metadata": {
        "id": "fgtTXyZV8kVC"
      },
      "execution_count": 20,
      "outputs": []
    },
    {
      "cell_type": "code",
      "source": [
        "def absolute_file_paths(directory): #setting path\n",
        "    path = os.path.abspath(directory)\n",
        "    return [entry.path for entry in os.scandir(path) if entry.is_file()]\n",
        "\n",
        "scream_paths = absolute_file_paths('/content/gdrive/MyDrive/Scream Data/positive')\n",
        "non_scream_paths = absolute_file_paths('/content/gdrive/MyDrive/Scream Data/negative')\n",
        "atmospheric_paths = absolute_file_paths('/content/gdrive/MyDrive/Scream Data/atmospheric_sounds')"
      ],
      "metadata": {
        "id": "xhZAPKKW9usg"
      },
      "execution_count": 21,
      "outputs": []
    },
    {
      "cell_type": "code",
      "source": [
        "extracted_features = [] #setting labels\n",
        "\n",
        "for scream in scream_paths:\n",
        "    data = features_extractor(scream)\n",
        "    label = 'scream'\n",
        "    extracted_features.append([data,label])\n",
        "\n",
        "for non_scream in non_scream_paths:\n",
        "    data = features_extractor(non_scream)\n",
        "    label = 'non_scream'\n",
        "    extracted_features.append([data,label])\n",
        "\n",
        "for non_scream in atmospheric_paths:\n",
        "    data = features_extractor(non_scream)\n",
        "    label = 'atmospheric'\n",
        "    extracted_features.append([data,label])"
      ],
      "metadata": {
        "id": "snutGUkL9JHj"
      },
      "execution_count": 22,
      "outputs": []
    },
    {
      "cell_type": "code",
      "source": [
        "extracted_features_array = np.asarray(extracted_features)"
      ],
      "metadata": {
        "colab": {
          "base_uri": "https://localhost:8080/"
        },
        "id": "0fw0Oiy7RsC0",
        "outputId": "0385f6c5-f7f4-41e8-f832-becb105d2896"
      },
      "execution_count": 24,
      "outputs": [
        {
          "output_type": "stream",
          "name": "stderr",
          "text": [
            "/usr/local/lib/python3.7/dist-packages/numpy/core/_asarray.py:83: VisibleDeprecationWarning: Creating an ndarray from ragged nested sequences (which is a list-or-tuple of lists-or-tuples-or ndarrays with different lengths or shapes) is deprecated. If you meant to do this, you must specify 'dtype=object' when creating the ndarray\n",
            "  return array(a, dtype, copy=False, order=order)\n"
          ]
        }
      ]
    },
    {
      "cell_type": "code",
      "source": [
        "extracted_features_audio = [i[0] for i in extracted_features_array]\n",
        "extracted_features_audio = np.asarray(extracted_features_audio) \n",
        "\n",
        "extracted_features_labels = [i[1] for i in extracted_features_array]\n",
        "extracted_features_labels = np.asarray(extracted_features_labels)"
      ],
      "metadata": {
        "id": "Zo7JoAmQR2_6"
      },
      "execution_count": 35,
      "outputs": []
    },
    {
      "cell_type": "code",
      "source": [
        "lb = LabelBinarizer()\n",
        "labels = lb.fit_transform(extracted_features_labels)"
      ],
      "metadata": {
        "id": "h8ZOdfFCSS9V"
      },
      "execution_count": 39,
      "outputs": []
    },
    {
      "cell_type": "code",
      "source": [
        "### Train Test Split\n",
        "from sklearn.model_selection import train_test_split\n",
        "X_train,X_test,y_train,y_test=train_test_split(extracted_features_audio,labels,test_size=0.3,random_state=0)"
      ],
      "metadata": {
        "id": "Y5XIGEfyCC_C"
      },
      "execution_count": 41,
      "outputs": []
    },
    {
      "cell_type": "code",
      "source": [
        "y_train.shape"
      ],
      "metadata": {
        "colab": {
          "base_uri": "https://localhost:8080/"
        },
        "id": "9_Rpvbe4CG03",
        "outputId": "a68a9de5-a099-4e13-a73c-bc7d5895cc63"
      },
      "execution_count": 42,
      "outputs": [
        {
          "output_type": "execute_result",
          "data": {
            "text/plain": [
              "(140, 3)"
            ]
          },
          "metadata": {},
          "execution_count": 42
        }
      ]
    },
    {
      "cell_type": "code",
      "source": [
        "num_labels = y.shape[1]"
      ],
      "metadata": {
        "id": "yMRJobxcDWRs"
      },
      "execution_count": 43,
      "outputs": []
    },
    {
      "cell_type": "code",
      "source": [
        "model=Sequential() \n",
        "###first layer\n",
        "model.add(Dense(100,input_shape=(40,)))\n",
        "model.add(Activation('relu'))\n",
        "model.add(Dropout(0.5))\n",
        "###second layer\n",
        "model.add(Dense(200))\n",
        "model.add(Activation('relu'))\n",
        "model.add(Dropout(0.5))\n",
        "###third layer\n",
        "model.add(Dense(100))\n",
        "model.add(Activation('relu'))\n",
        "model.add(Dropout(0.5))\n",
        "\n",
        "###final layer\n",
        "model.add(Dense(num_labels))\n",
        "model.add(Activation('softmax'))"
      ],
      "metadata": {
        "id": "fCl-zHbACLI3"
      },
      "execution_count": 44,
      "outputs": []
    },
    {
      "cell_type": "code",
      "source": [
        "model.compile(loss='categorical_crossentropy',metrics=['accuracy'],optimizer='adam')"
      ],
      "metadata": {
        "id": "Dqie5MgMCq5D"
      },
      "execution_count": 45,
      "outputs": []
    },
    {
      "cell_type": "code",
      "source": [
        "## Trianing my model\n",
        "from tensorflow.keras.callbacks import ModelCheckpoint\n",
        "from datetime import datetime \n",
        "\n",
        "num_epochs = 100\n",
        "num_batch_size = 32\n",
        "\n",
        "checkpointer = ModelCheckpoint(filepath='saved_models/audio_classification.hdf5', \n",
        "                               verbose=1, save_best_only=True)\n",
        "start = datetime.now()\n",
        "\n",
        "model.fit(X_train, y_train, batch_size=num_batch_size, epochs=num_epochs, validation_data=(X_test, y_test), callbacks=[checkpointer],\n",
        "          verbose=1, shuffle = True)\n",
        "\n",
        "\n",
        "duration = datetime.now() - start\n",
        "print(\"Training completed in time: \", duration)"
      ],
      "metadata": {
        "colab": {
          "base_uri": "https://localhost:8080/"
        },
        "id": "go3qJvIcDb_s",
        "outputId": "888078d6-874c-4a31-be3f-8812dc828e0e"
      },
      "execution_count": 46,
      "outputs": [
        {
          "output_type": "stream",
          "name": "stdout",
          "text": [
            "Epoch 1/100\n",
            "1/5 [=====>........................] - ETA: 4s - loss: 62.2703 - accuracy: 0.3438\n",
            "Epoch 00001: val_loss improved from inf to 13.42165, saving model to saved_models/audio_classification.hdf5\n",
            "5/5 [==============================] - 1s 104ms/step - loss: 43.8921 - accuracy: 0.3500 - val_loss: 13.4216 - val_accuracy: 0.5246\n",
            "Epoch 2/100\n",
            "1/5 [=====>........................] - ETA: 0s - loss: 44.4929 - accuracy: 0.2188\n",
            "Epoch 00002: val_loss did not improve from 13.42165\n",
            "5/5 [==============================] - 0s 17ms/step - loss: 37.7297 - accuracy: 0.3357 - val_loss: 13.4313 - val_accuracy: 0.5246\n",
            "Epoch 3/100\n",
            "1/5 [=====>........................] - ETA: 0s - loss: 30.4269 - accuracy: 0.4062\n",
            "Epoch 00003: val_loss improved from 13.42165 to 10.25115, saving model to saved_models/audio_classification.hdf5\n",
            "5/5 [==============================] - 0s 32ms/step - loss: 27.6885 - accuracy: 0.3929 - val_loss: 10.2512 - val_accuracy: 0.5410\n",
            "Epoch 4/100\n",
            "1/5 [=====>........................] - ETA: 0s - loss: 20.4712 - accuracy: 0.5312\n",
            "Epoch 00004: val_loss improved from 10.25115 to 7.92399, saving model to saved_models/audio_classification.hdf5\n",
            "5/5 [==============================] - 0s 29ms/step - loss: 21.0833 - accuracy: 0.5214 - val_loss: 7.9240 - val_accuracy: 0.5738\n",
            "Epoch 5/100\n",
            "1/5 [=====>........................] - ETA: 0s - loss: 21.6101 - accuracy: 0.4688\n",
            "Epoch 00005: val_loss improved from 7.92399 to 7.88339, saving model to saved_models/audio_classification.hdf5\n",
            "5/5 [==============================] - 0s 35ms/step - loss: 18.1925 - accuracy: 0.4571 - val_loss: 7.8834 - val_accuracy: 0.5738\n",
            "Epoch 6/100\n",
            "1/5 [=====>........................] - ETA: 0s - loss: 14.4117 - accuracy: 0.5000\n",
            "Epoch 00006: val_loss improved from 7.88339 to 6.83000, saving model to saved_models/audio_classification.hdf5\n",
            "5/5 [==============================] - 0s 28ms/step - loss: 14.0018 - accuracy: 0.5357 - val_loss: 6.8300 - val_accuracy: 0.5902\n",
            "Epoch 7/100\n",
            "1/5 [=====>........................] - ETA: 0s - loss: 8.9485 - accuracy: 0.5938\n",
            "Epoch 00007: val_loss improved from 6.83000 to 5.76050, saving model to saved_models/audio_classification.hdf5\n",
            "5/5 [==============================] - 0s 35ms/step - loss: 13.6063 - accuracy: 0.5429 - val_loss: 5.7605 - val_accuracy: 0.6066\n",
            "Epoch 8/100\n",
            "1/5 [=====>........................] - ETA: 0s - loss: 11.4796 - accuracy: 0.5625\n",
            "Epoch 00008: val_loss improved from 5.76050 to 4.54999, saving model to saved_models/audio_classification.hdf5\n",
            "5/5 [==============================] - 0s 30ms/step - loss: 14.2233 - accuracy: 0.5143 - val_loss: 4.5500 - val_accuracy: 0.6557\n",
            "Epoch 9/100\n",
            "1/5 [=====>........................] - ETA: 0s - loss: 18.4869 - accuracy: 0.4062\n",
            "Epoch 00009: val_loss improved from 4.54999 to 3.71697, saving model to saved_models/audio_classification.hdf5\n",
            "5/5 [==============================] - 0s 33ms/step - loss: 13.8074 - accuracy: 0.5214 - val_loss: 3.7170 - val_accuracy: 0.6885\n",
            "Epoch 10/100\n",
            "1/5 [=====>........................] - ETA: 0s - loss: 11.2953 - accuracy: 0.5312\n",
            "Epoch 00010: val_loss improved from 3.71697 to 3.03331, saving model to saved_models/audio_classification.hdf5\n",
            "5/5 [==============================] - 0s 34ms/step - loss: 9.8351 - accuracy: 0.5500 - val_loss: 3.0333 - val_accuracy: 0.7213\n",
            "Epoch 11/100\n",
            "1/5 [=====>........................] - ETA: 0s - loss: 12.7884 - accuracy: 0.4688\n",
            "Epoch 00011: val_loss improved from 3.03331 to 2.86694, saving model to saved_models/audio_classification.hdf5\n",
            "5/5 [==============================] - 0s 41ms/step - loss: 10.0461 - accuracy: 0.5143 - val_loss: 2.8669 - val_accuracy: 0.7213\n",
            "Epoch 12/100\n",
            "1/5 [=====>........................] - ETA: 0s - loss: 6.6910 - accuracy: 0.7188\n",
            "Epoch 00012: val_loss did not improve from 2.86694\n",
            "5/5 [==============================] - 0s 15ms/step - loss: 9.4283 - accuracy: 0.5929 - val_loss: 2.9140 - val_accuracy: 0.7213\n",
            "Epoch 13/100\n",
            "1/5 [=====>........................] - ETA: 0s - loss: 7.0802 - accuracy: 0.5938\n",
            "Epoch 00013: val_loss did not improve from 2.86694\n",
            "5/5 [==============================] - 0s 17ms/step - loss: 5.9012 - accuracy: 0.6429 - val_loss: 2.8714 - val_accuracy: 0.7213\n",
            "Epoch 14/100\n",
            "1/5 [=====>........................] - ETA: 0s - loss: 6.7531 - accuracy: 0.7188\n",
            "Epoch 00014: val_loss improved from 2.86694 to 2.37189, saving model to saved_models/audio_classification.hdf5\n",
            "5/5 [==============================] - 0s 30ms/step - loss: 7.4264 - accuracy: 0.6929 - val_loss: 2.3719 - val_accuracy: 0.7213\n",
            "Epoch 15/100\n",
            "1/5 [=====>........................] - ETA: 0s - loss: 8.3208 - accuracy: 0.5938\n",
            "Epoch 00015: val_loss improved from 2.37189 to 1.62780, saving model to saved_models/audio_classification.hdf5\n",
            "5/5 [==============================] - 0s 35ms/step - loss: 5.7016 - accuracy: 0.6286 - val_loss: 1.6278 - val_accuracy: 0.7541\n",
            "Epoch 16/100\n",
            "1/5 [=====>........................] - ETA: 0s - loss: 10.0077 - accuracy: 0.5312\n",
            "Epoch 00016: val_loss improved from 1.62780 to 1.23305, saving model to saved_models/audio_classification.hdf5\n",
            "5/5 [==============================] - 0s 36ms/step - loss: 5.8115 - accuracy: 0.6000 - val_loss: 1.2331 - val_accuracy: 0.7869\n",
            "Epoch 17/100\n",
            "1/5 [=====>........................] - ETA: 0s - loss: 5.3817 - accuracy: 0.6562\n",
            "Epoch 00017: val_loss improved from 1.23305 to 0.98051, saving model to saved_models/audio_classification.hdf5\n",
            "5/5 [==============================] - 0s 31ms/step - loss: 5.2534 - accuracy: 0.6500 - val_loss: 0.9805 - val_accuracy: 0.7869\n",
            "Epoch 18/100\n",
            "1/5 [=====>........................] - ETA: 0s - loss: 6.6350 - accuracy: 0.5312\n",
            "Epoch 00018: val_loss did not improve from 0.98051\n",
            "5/5 [==============================] - 0s 17ms/step - loss: 6.2880 - accuracy: 0.5714 - val_loss: 1.0746 - val_accuracy: 0.7869\n",
            "Epoch 19/100\n",
            "1/5 [=====>........................] - ETA: 0s - loss: 3.9852 - accuracy: 0.7500\n",
            "Epoch 00019: val_loss did not improve from 0.98051\n",
            "5/5 [==============================] - 0s 17ms/step - loss: 4.1549 - accuracy: 0.7000 - val_loss: 1.1678 - val_accuracy: 0.7869\n",
            "Epoch 20/100\n",
            "1/5 [=====>........................] - ETA: 0s - loss: 1.3540 - accuracy: 0.7812\n",
            "Epoch 00020: val_loss did not improve from 0.98051\n",
            "5/5 [==============================] - 0s 19ms/step - loss: 3.3817 - accuracy: 0.7000 - val_loss: 1.1584 - val_accuracy: 0.7705\n",
            "Epoch 21/100\n",
            "1/5 [=====>........................] - ETA: 0s - loss: 5.7512 - accuracy: 0.5625\n",
            "Epoch 00021: val_loss did not improve from 0.98051\n",
            "5/5 [==============================] - 0s 15ms/step - loss: 5.0346 - accuracy: 0.6286 - val_loss: 1.1036 - val_accuracy: 0.7705\n",
            "Epoch 22/100\n",
            "1/5 [=====>........................] - ETA: 0s - loss: 4.1939 - accuracy: 0.7188\n",
            "Epoch 00022: val_loss improved from 0.98051 to 0.96073, saving model to saved_models/audio_classification.hdf5\n",
            "5/5 [==============================] - 0s 32ms/step - loss: 6.0054 - accuracy: 0.6500 - val_loss: 0.9607 - val_accuracy: 0.7869\n",
            "Epoch 23/100\n",
            "1/5 [=====>........................] - ETA: 0s - loss: 3.0094 - accuracy: 0.8438\n",
            "Epoch 00023: val_loss improved from 0.96073 to 0.75803, saving model to saved_models/audio_classification.hdf5\n",
            "5/5 [==============================] - 0s 30ms/step - loss: 5.3564 - accuracy: 0.6857 - val_loss: 0.7580 - val_accuracy: 0.8033\n",
            "Epoch 24/100\n",
            "1/5 [=====>........................] - ETA: 0s - loss: 2.3809 - accuracy: 0.7188\n",
            "Epoch 00024: val_loss improved from 0.75803 to 0.65162, saving model to saved_models/audio_classification.hdf5\n",
            "5/5 [==============================] - 0s 32ms/step - loss: 3.4309 - accuracy: 0.6929 - val_loss: 0.6516 - val_accuracy: 0.8033\n",
            "Epoch 25/100\n",
            "1/5 [=====>........................] - ETA: 0s - loss: 1.6189 - accuracy: 0.7812\n",
            "Epoch 00025: val_loss improved from 0.65162 to 0.57588, saving model to saved_models/audio_classification.hdf5\n",
            "5/5 [==============================] - 0s 31ms/step - loss: 3.4612 - accuracy: 0.7143 - val_loss: 0.5759 - val_accuracy: 0.8361\n",
            "Epoch 26/100\n",
            "1/5 [=====>........................] - ETA: 0s - loss: 3.8957 - accuracy: 0.7500\n",
            "Epoch 00026: val_loss improved from 0.57588 to 0.51196, saving model to saved_models/audio_classification.hdf5\n",
            "5/5 [==============================] - 0s 31ms/step - loss: 3.7798 - accuracy: 0.7143 - val_loss: 0.5120 - val_accuracy: 0.8525\n",
            "Epoch 27/100\n",
            "1/5 [=====>........................] - ETA: 0s - loss: 1.4121 - accuracy: 0.8125\n",
            "Epoch 00027: val_loss improved from 0.51196 to 0.48433, saving model to saved_models/audio_classification.hdf5\n",
            "5/5 [==============================] - 0s 29ms/step - loss: 3.2425 - accuracy: 0.6714 - val_loss: 0.4843 - val_accuracy: 0.8689\n",
            "Epoch 28/100\n",
            "1/5 [=====>........................] - ETA: 0s - loss: 3.7992 - accuracy: 0.6250\n",
            "Epoch 00028: val_loss did not improve from 0.48433\n",
            "5/5 [==============================] - 0s 16ms/step - loss: 3.8728 - accuracy: 0.6571 - val_loss: 0.5139 - val_accuracy: 0.8361\n",
            "Epoch 29/100\n",
            "1/5 [=====>........................] - ETA: 0s - loss: 3.3331 - accuracy: 0.7500\n",
            "Epoch 00029: val_loss did not improve from 0.48433\n",
            "5/5 [==============================] - 0s 18ms/step - loss: 2.9539 - accuracy: 0.7571 - val_loss: 0.5531 - val_accuracy: 0.8197\n",
            "Epoch 30/100\n",
            "1/5 [=====>........................] - ETA: 0s - loss: 1.3937 - accuracy: 0.8438\n",
            "Epoch 00030: val_loss did not improve from 0.48433\n",
            "5/5 [==============================] - 0s 17ms/step - loss: 1.9061 - accuracy: 0.8071 - val_loss: 0.5692 - val_accuracy: 0.8197\n",
            "Epoch 31/100\n",
            "1/5 [=====>........................] - ETA: 0s - loss: 4.3101 - accuracy: 0.6875\n",
            "Epoch 00031: val_loss did not improve from 0.48433\n",
            "5/5 [==============================] - 0s 17ms/step - loss: 2.9515 - accuracy: 0.7071 - val_loss: 0.5923 - val_accuracy: 0.8197\n",
            "Epoch 32/100\n",
            "1/5 [=====>........................] - ETA: 0s - loss: 2.9466 - accuracy: 0.6562\n",
            "Epoch 00032: val_loss did not improve from 0.48433\n",
            "5/5 [==============================] - 0s 18ms/step - loss: 2.9604 - accuracy: 0.6714 - val_loss: 0.6227 - val_accuracy: 0.8197\n",
            "Epoch 33/100\n",
            "1/5 [=====>........................] - ETA: 0s - loss: 1.7257 - accuracy: 0.7500\n",
            "Epoch 00033: val_loss did not improve from 0.48433\n",
            "5/5 [==============================] - 0s 16ms/step - loss: 2.7226 - accuracy: 0.7429 - val_loss: 0.7002 - val_accuracy: 0.8033\n",
            "Epoch 34/100\n",
            "1/5 [=====>........................] - ETA: 0s - loss: 3.7989 - accuracy: 0.7812\n",
            "Epoch 00034: val_loss did not improve from 0.48433\n",
            "5/5 [==============================] - 0s 25ms/step - loss: 2.8024 - accuracy: 0.7571 - val_loss: 0.7056 - val_accuracy: 0.8033\n",
            "Epoch 35/100\n",
            "1/5 [=====>........................] - ETA: 0s - loss: 0.8677 - accuracy: 0.8438\n",
            "Epoch 00035: val_loss did not improve from 0.48433\n",
            "5/5 [==============================] - 0s 17ms/step - loss: 1.7321 - accuracy: 0.7786 - val_loss: 0.6638 - val_accuracy: 0.8197\n",
            "Epoch 36/100\n",
            "1/5 [=====>........................] - ETA: 0s - loss: 1.2757 - accuracy: 0.7812\n",
            "Epoch 00036: val_loss did not improve from 0.48433\n",
            "5/5 [==============================] - 0s 22ms/step - loss: 2.3428 - accuracy: 0.7643 - val_loss: 0.6191 - val_accuracy: 0.8197\n",
            "Epoch 37/100\n",
            "1/5 [=====>........................] - ETA: 0s - loss: 2.2075 - accuracy: 0.7812\n",
            "Epoch 00037: val_loss did not improve from 0.48433\n",
            "5/5 [==============================] - 0s 18ms/step - loss: 2.4820 - accuracy: 0.7714 - val_loss: 0.5880 - val_accuracy: 0.8197\n",
            "Epoch 38/100\n",
            "1/5 [=====>........................] - ETA: 0s - loss: 3.1633 - accuracy: 0.7188\n",
            "Epoch 00038: val_loss did not improve from 0.48433\n",
            "5/5 [==============================] - 0s 19ms/step - loss: 2.9871 - accuracy: 0.7500 - val_loss: 0.5656 - val_accuracy: 0.8197\n",
            "Epoch 39/100\n",
            "1/5 [=====>........................] - ETA: 0s - loss: 1.9367 - accuracy: 0.8750\n",
            "Epoch 00039: val_loss did not improve from 0.48433\n",
            "5/5 [==============================] - 0s 20ms/step - loss: 2.5464 - accuracy: 0.7500 - val_loss: 0.5817 - val_accuracy: 0.8197\n",
            "Epoch 40/100\n",
            "1/5 [=====>........................] - ETA: 0s - loss: 1.4179 - accuracy: 0.7812\n",
            "Epoch 00040: val_loss did not improve from 0.48433\n",
            "5/5 [==============================] - 0s 17ms/step - loss: 2.2597 - accuracy: 0.7571 - val_loss: 0.6047 - val_accuracy: 0.8033\n",
            "Epoch 41/100\n",
            "1/5 [=====>........................] - ETA: 0s - loss: 1.6540 - accuracy: 0.8125\n",
            "Epoch 00041: val_loss did not improve from 0.48433\n",
            "5/5 [==============================] - 0s 20ms/step - loss: 2.4487 - accuracy: 0.7786 - val_loss: 0.5616 - val_accuracy: 0.8033\n",
            "Epoch 42/100\n",
            "1/5 [=====>........................] - ETA: 0s - loss: 2.1923 - accuracy: 0.7812\n",
            "Epoch 00042: val_loss did not improve from 0.48433\n",
            "5/5 [==============================] - 0s 17ms/step - loss: 1.9947 - accuracy: 0.7500 - val_loss: 0.5075 - val_accuracy: 0.8197\n",
            "Epoch 43/100\n",
            "1/5 [=====>........................] - ETA: 0s - loss: 1.2751 - accuracy: 0.8125\n",
            "Epoch 00043: val_loss improved from 0.48433 to 0.47425, saving model to saved_models/audio_classification.hdf5\n",
            "5/5 [==============================] - 0s 34ms/step - loss: 2.4805 - accuracy: 0.7643 - val_loss: 0.4743 - val_accuracy: 0.8197\n",
            "Epoch 44/100\n",
            "1/5 [=====>........................] - ETA: 0s - loss: 2.2025 - accuracy: 0.7500\n",
            "Epoch 00044: val_loss improved from 0.47425 to 0.45683, saving model to saved_models/audio_classification.hdf5\n",
            "5/5 [==============================] - 0s 34ms/step - loss: 1.7624 - accuracy: 0.7857 - val_loss: 0.4568 - val_accuracy: 0.8525\n",
            "Epoch 45/100\n",
            "1/5 [=====>........................] - ETA: 0s - loss: 1.3536 - accuracy: 0.8750\n",
            "Epoch 00045: val_loss improved from 0.45683 to 0.40439, saving model to saved_models/audio_classification.hdf5\n",
            "5/5 [==============================] - 0s 34ms/step - loss: 1.8196 - accuracy: 0.8286 - val_loss: 0.4044 - val_accuracy: 0.8852\n",
            "Epoch 46/100\n",
            "1/5 [=====>........................] - ETA: 0s - loss: 2.7430 - accuracy: 0.7188\n",
            "Epoch 00046: val_loss improved from 0.40439 to 0.35342, saving model to saved_models/audio_classification.hdf5\n",
            "5/5 [==============================] - 0s 30ms/step - loss: 1.6305 - accuracy: 0.7714 - val_loss: 0.3534 - val_accuracy: 0.9016\n",
            "Epoch 47/100\n",
            "1/5 [=====>........................] - ETA: 0s - loss: 1.2538 - accuracy: 0.7812\n",
            "Epoch 00047: val_loss improved from 0.35342 to 0.31487, saving model to saved_models/audio_classification.hdf5\n",
            "5/5 [==============================] - 0s 30ms/step - loss: 1.1519 - accuracy: 0.8143 - val_loss: 0.3149 - val_accuracy: 0.9180\n",
            "Epoch 48/100\n",
            "1/5 [=====>........................] - ETA: 0s - loss: 1.4311 - accuracy: 0.8438\n",
            "Epoch 00048: val_loss improved from 0.31487 to 0.30479, saving model to saved_models/audio_classification.hdf5\n",
            "5/5 [==============================] - 0s 32ms/step - loss: 1.2126 - accuracy: 0.8214 - val_loss: 0.3048 - val_accuracy: 0.9180\n",
            "Epoch 49/100\n",
            "1/5 [=====>........................] - ETA: 0s - loss: 2.5890 - accuracy: 0.6562\n",
            "Epoch 00049: val_loss improved from 0.30479 to 0.29194, saving model to saved_models/audio_classification.hdf5\n",
            "5/5 [==============================] - 0s 30ms/step - loss: 1.7719 - accuracy: 0.7714 - val_loss: 0.2919 - val_accuracy: 0.9180\n",
            "Epoch 50/100\n",
            "1/5 [=====>........................] - ETA: 0s - loss: 1.6297 - accuracy: 0.7188\n",
            "Epoch 00050: val_loss improved from 0.29194 to 0.27343, saving model to saved_models/audio_classification.hdf5\n",
            "5/5 [==============================] - 0s 33ms/step - loss: 1.8258 - accuracy: 0.7714 - val_loss: 0.2734 - val_accuracy: 0.9180\n",
            "Epoch 51/100\n",
            "1/5 [=====>........................] - ETA: 0s - loss: 0.9684 - accuracy: 0.7812\n",
            "Epoch 00051: val_loss improved from 0.27343 to 0.26567, saving model to saved_models/audio_classification.hdf5\n",
            "5/5 [==============================] - 0s 33ms/step - loss: 1.7989 - accuracy: 0.7929 - val_loss: 0.2657 - val_accuracy: 0.9180\n",
            "Epoch 52/100\n",
            "1/5 [=====>........................] - ETA: 0s - loss: 1.2977 - accuracy: 0.7500\n",
            "Epoch 00052: val_loss did not improve from 0.26567\n",
            "5/5 [==============================] - 0s 20ms/step - loss: 1.3938 - accuracy: 0.8143 - val_loss: 0.2670 - val_accuracy: 0.9180\n",
            "Epoch 53/100\n",
            "1/5 [=====>........................] - ETA: 0s - loss: 0.3654 - accuracy: 0.9062\n",
            "Epoch 00053: val_loss improved from 0.26567 to 0.25742, saving model to saved_models/audio_classification.hdf5\n",
            "5/5 [==============================] - 0s 32ms/step - loss: 1.1256 - accuracy: 0.8286 - val_loss: 0.2574 - val_accuracy: 0.9180\n",
            "Epoch 54/100\n",
            "1/5 [=====>........................] - ETA: 0s - loss: 2.2154 - accuracy: 0.7500\n",
            "Epoch 00054: val_loss improved from 0.25742 to 0.24382, saving model to saved_models/audio_classification.hdf5\n",
            "5/5 [==============================] - 0s 35ms/step - loss: 1.6367 - accuracy: 0.7857 - val_loss: 0.2438 - val_accuracy: 0.9180\n",
            "Epoch 55/100\n",
            "1/5 [=====>........................] - ETA: 0s - loss: 1.2317 - accuracy: 0.7500\n",
            "Epoch 00055: val_loss improved from 0.24382 to 0.23700, saving model to saved_models/audio_classification.hdf5\n",
            "5/5 [==============================] - 0s 42ms/step - loss: 1.1127 - accuracy: 0.7929 - val_loss: 0.2370 - val_accuracy: 0.9180\n",
            "Epoch 56/100\n",
            "1/5 [=====>........................] - ETA: 0s - loss: 1.9014 - accuracy: 0.7188\n",
            "Epoch 00056: val_loss did not improve from 0.23700\n",
            "5/5 [==============================] - 0s 18ms/step - loss: 1.3196 - accuracy: 0.7857 - val_loss: 0.2406 - val_accuracy: 0.9180\n",
            "Epoch 57/100\n",
            "1/5 [=====>........................] - ETA: 0s - loss: 0.5292 - accuracy: 0.9062\n",
            "Epoch 00057: val_loss did not improve from 0.23700\n",
            "5/5 [==============================] - 0s 17ms/step - loss: 0.8836 - accuracy: 0.8714 - val_loss: 0.2486 - val_accuracy: 0.9180\n",
            "Epoch 58/100\n",
            "1/5 [=====>........................] - ETA: 0s - loss: 0.0217 - accuracy: 1.0000\n",
            "Epoch 00058: val_loss did not improve from 0.23700\n",
            "5/5 [==============================] - 0s 17ms/step - loss: 1.2567 - accuracy: 0.7929 - val_loss: 0.2588 - val_accuracy: 0.9180\n",
            "Epoch 59/100\n",
            "1/5 [=====>........................] - ETA: 0s - loss: 3.0231 - accuracy: 0.6875\n",
            "Epoch 00059: val_loss did not improve from 0.23700\n",
            "5/5 [==============================] - 0s 18ms/step - loss: 1.1947 - accuracy: 0.8143 - val_loss: 0.2444 - val_accuracy: 0.9180\n",
            "Epoch 60/100\n",
            "1/5 [=====>........................] - ETA: 0s - loss: 1.3284 - accuracy: 0.7812\n",
            "Epoch 00060: val_loss improved from 0.23700 to 0.22743, saving model to saved_models/audio_classification.hdf5\n",
            "5/5 [==============================] - 0s 35ms/step - loss: 0.9661 - accuracy: 0.8643 - val_loss: 0.2274 - val_accuracy: 0.9180\n",
            "Epoch 61/100\n",
            "1/5 [=====>........................] - ETA: 0s - loss: 0.8110 - accuracy: 0.8750\n",
            "Epoch 00061: val_loss improved from 0.22743 to 0.21055, saving model to saved_models/audio_classification.hdf5\n",
            "5/5 [==============================] - 0s 31ms/step - loss: 1.4425 - accuracy: 0.8143 - val_loss: 0.2106 - val_accuracy: 0.9344\n",
            "Epoch 62/100\n",
            "1/5 [=====>........................] - ETA: 0s - loss: 0.4098 - accuracy: 0.8438\n",
            "Epoch 00062: val_loss improved from 0.21055 to 0.20316, saving model to saved_models/audio_classification.hdf5\n",
            "5/5 [==============================] - 0s 30ms/step - loss: 1.3853 - accuracy: 0.7929 - val_loss: 0.2032 - val_accuracy: 0.9508\n",
            "Epoch 63/100\n",
            "1/5 [=====>........................] - ETA: 0s - loss: 0.7674 - accuracy: 0.8750\n",
            "Epoch 00063: val_loss did not improve from 0.20316\n",
            "5/5 [==============================] - 0s 20ms/step - loss: 1.2949 - accuracy: 0.8500 - val_loss: 0.2038 - val_accuracy: 0.9672\n",
            "Epoch 64/100\n",
            "1/5 [=====>........................] - ETA: 0s - loss: 1.4741 - accuracy: 0.7500\n",
            "Epoch 00064: val_loss did not improve from 0.20316\n",
            "5/5 [==============================] - 0s 17ms/step - loss: 1.2597 - accuracy: 0.8357 - val_loss: 0.2110 - val_accuracy: 0.9672\n",
            "Epoch 65/100\n",
            "1/5 [=====>........................] - ETA: 0s - loss: 0.3497 - accuracy: 0.8750\n",
            "Epoch 00065: val_loss did not improve from 0.20316\n",
            "5/5 [==============================] - 0s 20ms/step - loss: 0.5562 - accuracy: 0.8714 - val_loss: 0.2219 - val_accuracy: 0.9672\n",
            "Epoch 66/100\n",
            "1/5 [=====>........................] - ETA: 0s - loss: 0.5560 - accuracy: 0.8438\n",
            "Epoch 00066: val_loss did not improve from 0.20316\n",
            "5/5 [==============================] - 0s 16ms/step - loss: 0.7057 - accuracy: 0.8714 - val_loss: 0.2352 - val_accuracy: 0.9508\n",
            "Epoch 67/100\n",
            "1/5 [=====>........................] - ETA: 0s - loss: 1.5657 - accuracy: 0.9062\n",
            "Epoch 00067: val_loss did not improve from 0.20316\n",
            "5/5 [==============================] - 0s 17ms/step - loss: 0.8818 - accuracy: 0.8786 - val_loss: 0.2406 - val_accuracy: 0.9508\n",
            "Epoch 68/100\n",
            "1/5 [=====>........................] - ETA: 0s - loss: 0.2832 - accuracy: 0.8125\n",
            "Epoch 00068: val_loss did not improve from 0.20316\n",
            "5/5 [==============================] - 0s 17ms/step - loss: 0.8794 - accuracy: 0.7929 - val_loss: 0.2381 - val_accuracy: 0.9672\n",
            "Epoch 69/100\n",
            "1/5 [=====>........................] - ETA: 0s - loss: 0.6762 - accuracy: 0.8750\n",
            "Epoch 00069: val_loss did not improve from 0.20316\n",
            "5/5 [==============================] - 0s 24ms/step - loss: 0.9155 - accuracy: 0.8500 - val_loss: 0.2330 - val_accuracy: 0.9672\n",
            "Epoch 70/100\n",
            "1/5 [=====>........................] - ETA: 0s - loss: 1.2454 - accuracy: 0.8125\n",
            "Epoch 00070: val_loss did not improve from 0.20316\n",
            "5/5 [==============================] - 0s 20ms/step - loss: 1.0151 - accuracy: 0.8071 - val_loss: 0.2285 - val_accuracy: 0.9508\n",
            "Epoch 71/100\n",
            "1/5 [=====>........................] - ETA: 0s - loss: 1.0413 - accuracy: 0.9062\n",
            "Epoch 00071: val_loss did not improve from 0.20316\n",
            "5/5 [==============================] - 0s 18ms/step - loss: 0.7739 - accuracy: 0.8429 - val_loss: 0.2211 - val_accuracy: 0.9508\n",
            "Epoch 72/100\n",
            "1/5 [=====>........................] - ETA: 0s - loss: 0.7155 - accuracy: 0.8125\n",
            "Epoch 00072: val_loss did not improve from 0.20316\n",
            "5/5 [==============================] - 0s 21ms/step - loss: 0.7456 - accuracy: 0.8143 - val_loss: 0.2223 - val_accuracy: 0.9508\n",
            "Epoch 73/100\n",
            "1/5 [=====>........................] - ETA: 0s - loss: 0.4898 - accuracy: 0.8750\n",
            "Epoch 00073: val_loss did not improve from 0.20316\n",
            "5/5 [==============================] - 0s 18ms/step - loss: 0.9660 - accuracy: 0.8143 - val_loss: 0.2251 - val_accuracy: 0.9508\n",
            "Epoch 74/100\n",
            "1/5 [=====>........................] - ETA: 0s - loss: 0.7964 - accuracy: 0.9375\n",
            "Epoch 00074: val_loss did not improve from 0.20316\n",
            "5/5 [==============================] - 0s 16ms/step - loss: 1.2825 - accuracy: 0.8000 - val_loss: 0.2335 - val_accuracy: 0.9508\n",
            "Epoch 75/100\n",
            "1/5 [=====>........................] - ETA: 0s - loss: 1.0368 - accuracy: 0.8750\n",
            "Epoch 00075: val_loss did not improve from 0.20316\n",
            "5/5 [==============================] - 0s 20ms/step - loss: 0.6898 - accuracy: 0.8786 - val_loss: 0.2491 - val_accuracy: 0.9508\n",
            "Epoch 76/100\n",
            "1/5 [=====>........................] - ETA: 0s - loss: 0.4461 - accuracy: 0.9062\n",
            "Epoch 00076: val_loss did not improve from 0.20316\n",
            "5/5 [==============================] - 0s 17ms/step - loss: 0.6230 - accuracy: 0.8500 - val_loss: 0.2616 - val_accuracy: 0.9508\n",
            "Epoch 77/100\n",
            "1/5 [=====>........................] - ETA: 0s - loss: 1.1552 - accuracy: 0.8750\n",
            "Epoch 00077: val_loss did not improve from 0.20316\n",
            "5/5 [==============================] - 0s 17ms/step - loss: 0.6739 - accuracy: 0.8571 - val_loss: 0.2642 - val_accuracy: 0.9508\n",
            "Epoch 78/100\n",
            "1/5 [=====>........................] - ETA: 0s - loss: 0.5925 - accuracy: 0.9062\n",
            "Epoch 00078: val_loss did not improve from 0.20316\n",
            "5/5 [==============================] - 0s 20ms/step - loss: 0.8867 - accuracy: 0.8786 - val_loss: 0.2566 - val_accuracy: 0.9508\n",
            "Epoch 79/100\n",
            "1/5 [=====>........................] - ETA: 0s - loss: 0.9632 - accuracy: 0.8438\n",
            "Epoch 00079: val_loss did not improve from 0.20316\n",
            "5/5 [==============================] - 0s 19ms/step - loss: 0.9462 - accuracy: 0.8214 - val_loss: 0.2499 - val_accuracy: 0.9508\n",
            "Epoch 80/100\n",
            "1/5 [=====>........................] - ETA: 0s - loss: 1.5871 - accuracy: 0.7500\n",
            "Epoch 00080: val_loss did not improve from 0.20316\n",
            "5/5 [==============================] - 0s 20ms/step - loss: 0.8332 - accuracy: 0.8214 - val_loss: 0.2437 - val_accuracy: 0.9508\n",
            "Epoch 81/100\n",
            "1/5 [=====>........................] - ETA: 0s - loss: 0.9414 - accuracy: 0.7812\n",
            "Epoch 00081: val_loss did not improve from 0.20316\n",
            "5/5 [==============================] - 0s 19ms/step - loss: 0.6507 - accuracy: 0.8500 - val_loss: 0.2408 - val_accuracy: 0.9672\n",
            "Epoch 82/100\n",
            "1/5 [=====>........................] - ETA: 0s - loss: 1.0316 - accuracy: 0.8125\n",
            "Epoch 00082: val_loss did not improve from 0.20316\n",
            "5/5 [==============================] - 0s 22ms/step - loss: 0.7114 - accuracy: 0.8357 - val_loss: 0.2455 - val_accuracy: 0.9344\n",
            "Epoch 83/100\n",
            "1/5 [=====>........................] - ETA: 0s - loss: 1.8344 - accuracy: 0.7188\n",
            "Epoch 00083: val_loss did not improve from 0.20316\n",
            "5/5 [==============================] - 0s 20ms/step - loss: 0.8404 - accuracy: 0.8357 - val_loss: 0.2537 - val_accuracy: 0.9344\n",
            "Epoch 84/100\n",
            "1/5 [=====>........................] - ETA: 0s - loss: 1.9245 - accuracy: 0.8125\n",
            "Epoch 00084: val_loss did not improve from 0.20316\n",
            "5/5 [==============================] - 0s 19ms/step - loss: 0.9121 - accuracy: 0.8357 - val_loss: 0.2565 - val_accuracy: 0.9344\n",
            "Epoch 85/100\n",
            "1/5 [=====>........................] - ETA: 0s - loss: 0.3086 - accuracy: 0.8438\n",
            "Epoch 00085: val_loss did not improve from 0.20316\n",
            "5/5 [==============================] - 0s 17ms/step - loss: 0.5443 - accuracy: 0.9000 - val_loss: 0.2523 - val_accuracy: 0.9344\n",
            "Epoch 86/100\n",
            "1/5 [=====>........................] - ETA: 0s - loss: 0.8300 - accuracy: 0.8125\n",
            "Epoch 00086: val_loss did not improve from 0.20316\n",
            "5/5 [==============================] - 0s 17ms/step - loss: 0.5366 - accuracy: 0.8571 - val_loss: 0.2482 - val_accuracy: 0.9344\n",
            "Epoch 87/100\n",
            "1/5 [=====>........................] - ETA: 0s - loss: 0.5493 - accuracy: 0.8438\n",
            "Epoch 00087: val_loss did not improve from 0.20316\n",
            "5/5 [==============================] - 0s 17ms/step - loss: 0.5388 - accuracy: 0.8500 - val_loss: 0.2445 - val_accuracy: 0.9344\n",
            "Epoch 88/100\n",
            "1/5 [=====>........................] - ETA: 0s - loss: 0.0510 - accuracy: 0.9688\n",
            "Epoch 00088: val_loss did not improve from 0.20316\n",
            "5/5 [==============================] - 0s 19ms/step - loss: 0.4716 - accuracy: 0.9000 - val_loss: 0.2421 - val_accuracy: 0.9344\n",
            "Epoch 89/100\n",
            "1/5 [=====>........................] - ETA: 0s - loss: 0.3814 - accuracy: 0.8438\n",
            "Epoch 00089: val_loss did not improve from 0.20316\n",
            "5/5 [==============================] - 0s 21ms/step - loss: 0.5120 - accuracy: 0.8714 - val_loss: 0.2376 - val_accuracy: 0.9344\n",
            "Epoch 90/100\n",
            "1/5 [=====>........................] - ETA: 0s - loss: 0.5218 - accuracy: 0.9062\n",
            "Epoch 00090: val_loss did not improve from 0.20316\n",
            "5/5 [==============================] - 0s 19ms/step - loss: 0.7425 - accuracy: 0.8643 - val_loss: 0.2285 - val_accuracy: 0.9344\n",
            "Epoch 91/100\n",
            "1/5 [=====>........................] - ETA: 0s - loss: 0.4449 - accuracy: 0.9062\n",
            "Epoch 00091: val_loss did not improve from 0.20316\n",
            "5/5 [==============================] - 0s 27ms/step - loss: 0.5781 - accuracy: 0.9143 - val_loss: 0.2219 - val_accuracy: 0.9344\n",
            "Epoch 92/100\n",
            "1/5 [=====>........................] - ETA: 0s - loss: 0.1435 - accuracy: 0.9688\n",
            "Epoch 00092: val_loss did not improve from 0.20316\n",
            "5/5 [==============================] - 0s 21ms/step - loss: 0.5142 - accuracy: 0.9214 - val_loss: 0.2194 - val_accuracy: 0.9508\n",
            "Epoch 93/100\n",
            "1/5 [=====>........................] - ETA: 0s - loss: 0.8474 - accuracy: 0.9062\n",
            "Epoch 00093: val_loss did not improve from 0.20316\n",
            "5/5 [==============================] - 0s 18ms/step - loss: 0.7089 - accuracy: 0.8643 - val_loss: 0.2177 - val_accuracy: 0.9672\n",
            "Epoch 94/100\n",
            "1/5 [=====>........................] - ETA: 0s - loss: 0.3462 - accuracy: 0.9375\n",
            "Epoch 00094: val_loss did not improve from 0.20316\n",
            "5/5 [==============================] - 0s 16ms/step - loss: 0.4831 - accuracy: 0.8929 - val_loss: 0.2165 - val_accuracy: 0.9672\n",
            "Epoch 95/100\n",
            "1/5 [=====>........................] - ETA: 0s - loss: 0.0814 - accuracy: 0.9688\n",
            "Epoch 00095: val_loss did not improve from 0.20316\n",
            "5/5 [==============================] - 0s 20ms/step - loss: 0.5861 - accuracy: 0.9071 - val_loss: 0.2138 - val_accuracy: 0.9672\n",
            "Epoch 96/100\n",
            "1/5 [=====>........................] - ETA: 0s - loss: 0.4839 - accuracy: 0.9062\n",
            "Epoch 00096: val_loss did not improve from 0.20316\n",
            "5/5 [==============================] - 0s 18ms/step - loss: 0.7010 - accuracy: 0.8857 - val_loss: 0.2114 - val_accuracy: 0.9508\n",
            "Epoch 97/100\n",
            "1/5 [=====>........................] - ETA: 0s - loss: 1.6225 - accuracy: 0.9062\n",
            "Epoch 00097: val_loss did not improve from 0.20316\n",
            "5/5 [==============================] - 0s 17ms/step - loss: 0.6980 - accuracy: 0.9214 - val_loss: 0.2079 - val_accuracy: 0.9344\n",
            "Epoch 98/100\n",
            "1/5 [=====>........................] - ETA: 0s - loss: 0.4027 - accuracy: 0.8750\n",
            "Epoch 00098: val_loss did not improve from 0.20316\n",
            "5/5 [==============================] - 0s 18ms/step - loss: 0.3356 - accuracy: 0.8857 - val_loss: 0.2086 - val_accuracy: 0.9344\n",
            "Epoch 99/100\n",
            "1/5 [=====>........................] - ETA: 0s - loss: 0.3817 - accuracy: 0.9375\n",
            "Epoch 00099: val_loss did not improve from 0.20316\n",
            "5/5 [==============================] - 0s 20ms/step - loss: 0.5342 - accuracy: 0.8500 - val_loss: 0.2080 - val_accuracy: 0.9344\n",
            "Epoch 100/100\n",
            "1/5 [=====>........................] - ETA: 0s - loss: 0.7332 - accuracy: 0.8750\n",
            "Epoch 00100: val_loss did not improve from 0.20316\n",
            "5/5 [==============================] - 0s 18ms/step - loss: 0.3166 - accuracy: 0.9286 - val_loss: 0.2058 - val_accuracy: 0.9344\n",
            "Training completed in time:  0:00:12.541108\n"
          ]
        }
      ]
    },
    {
      "cell_type": "code",
      "source": [
        "test_accuracy=model.evaluate(X_test,y_test,verbose=0)\n",
        "print(test_accuracy[1])"
      ],
      "metadata": {
        "colab": {
          "base_uri": "https://localhost:8080/"
        },
        "id": "RBjhMulsDsFb",
        "outputId": "84d780da-cf5f-447c-cdfb-38672a38d60f"
      },
      "execution_count": 47,
      "outputs": [
        {
          "output_type": "stream",
          "name": "stdout",
          "text": [
            "0.9344262480735779\n"
          ]
        }
      ]
    },
    {
      "cell_type": "code",
      "source": [
        "predictions = model.predict(x=X_test)\n",
        "print(classification_report(y_test.argmax(axis=1),\n",
        "\tpredictions.argmax(axis=1), target_names=lb.classes_))\n"
      ],
      "metadata": {
        "id": "FUc0q1G41kHL",
        "outputId": "056edf04-26f3-4f80-c550-f1bb8de63f6e",
        "colab": {
          "base_uri": "https://localhost:8080/"
        }
      },
      "execution_count": 58,
      "outputs": [
        {
          "output_type": "stream",
          "name": "stdout",
          "text": [
            "              precision    recall  f1-score   support\n",
            "\n",
            " atmospheric       0.95      0.95      0.95        19\n",
            "  non_scream       0.90      1.00      0.95        19\n",
            "      scream       0.95      0.87      0.91        23\n",
            "\n",
            "    accuracy                           0.93        61\n",
            "   macro avg       0.93      0.94      0.94        61\n",
            "weighted avg       0.94      0.93      0.93        61\n",
            "\n"
          ]
        }
      ]
    },
    {
      "cell_type": "code",
      "source": [
        "filename = '/content/scream.wav' #librosa python package\n",
        "audio, sample_rate = librosa.load(filename, res_type='kaiser_fast') \n",
        "mfccs_features = librosa.feature.mfcc(y=audio, sr=sample_rate, n_mfcc=40)\n",
        "mfccs_scaled_features = np.mean(mfccs_features.T,axis=0)\n",
        "\n",
        "#print(mfccs_scaled_features)\n",
        "mfccs_scaled_features=mfccs_scaled_features.reshape(1,-1)\n",
        "#print(mfccs_scaled_features)\n",
        "#print(mfccs_scaled_features.shape)\n",
        "\n",
        "labels = ['atmospheric', 'non_scream', 'scream']\n",
        "labels.sort()\n",
        "predict_x=model.predict(mfccs_scaled_features) \n",
        "classes_x=np.argmax(predict_x,axis=1)\n",
        "print(labels[classes_x[0]])\n",
        "\n",
        "\n"
      ],
      "metadata": {
        "colab": {
          "base_uri": "https://localhost:8080/"
        },
        "id": "e6oBzHkMD1Xc",
        "outputId": "9229a2a1-c852-4d20-e4b3-03f57f2523b3"
      },
      "execution_count": 73,
      "outputs": [
        {
          "output_type": "stream",
          "name": "stdout",
          "text": [
            "scream\n"
          ]
        }
      ]
    },
    {
      "cell_type": "code",
      "source": [
        ""
      ],
      "metadata": {
        "id": "Hw4boMloX6dy"
      },
      "execution_count": null,
      "outputs": []
    }
  ]
}