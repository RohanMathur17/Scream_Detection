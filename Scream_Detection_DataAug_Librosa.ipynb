{
  "nbformat": 4,
  "nbformat_minor": 0,
  "metadata": {
    "colab": {
      "name": "Scream_Detection_DataAug_Librosa.ipynb",
      "provenance": [],
      "collapsed_sections": [],
      "authorship_tag": "ABX9TyM7G2DzQazbP7Z6NSXE9Vw3",
      "include_colab_link": true
    },
    "kernelspec": {
      "name": "python3",
      "display_name": "Python 3"
    },
    "language_info": {
      "name": "python"
    },
    "accelerator": "GPU"
  },
  "cells": [
    {
      "cell_type": "markdown",
      "metadata": {
        "id": "view-in-github",
        "colab_type": "text"
      },
      "source": [
        "<a href=\"https://colab.research.google.com/github/RohanMathur17/Scream_Detection/blob/main/Scream_Detection_DataAug_Librosa.ipynb\" target=\"_parent\"><img src=\"https://colab.research.google.com/assets/colab-badge.svg\" alt=\"Open In Colab\"/></a>"
      ]
    },
    {
      "cell_type": "code",
      "execution_count": 1,
      "metadata": {
        "colab": {
          "base_uri": "https://localhost:8080/"
        },
        "id": "KfJRCqdcWcNW",
        "outputId": "ac34ce3b-be93-4537-d227-fce2c42e2c0c"
      },
      "outputs": [
        {
          "output_type": "stream",
          "name": "stdout",
          "text": [
            "Mounted at /content/gdrive\n"
          ]
        }
      ],
      "source": [
        "from google.colab import drive\n",
        "drive.mount('/content/gdrive')"
      ]
    },
    {
      "cell_type": "code",
      "source": [
        "!pip install -q pydub"
      ],
      "metadata": {
        "id": "g1br33BoWhGK"
      },
      "execution_count": 2,
      "outputs": []
    },
    {
      "cell_type": "code",
      "source": [
        "import tensorflow as tf\n",
        "import tensorflow_datasets as tfds\n",
        "from tensorflow.keras.layers import Input, Lambda, Conv2D, BatchNormalization\n",
        "from tensorflow.keras.layers import Activation, MaxPool2D, Flatten, Dropout, Dense\n",
        "from sklearn.model_selection import train_test_split\n",
        "from tensorflow.keras.models import Sequential\n",
        "from sklearn.metrics import classification_report\n",
        "from tensorflow.keras.layers import Dense,Dropout,Activation,Flatten\n",
        "from sklearn.preprocessing import LabelBinarizer\n",
        "from tensorflow.keras.optimizers import Adam\n",
        "from sklearn import metrics\n",
        "from IPython.display import Audio\n",
        "from matplotlib import pyplot as plt\n",
        "from tqdm import tqdm\n",
        "import os\n",
        "import numpy as np\n",
        "from scipy.io import wavfile \n",
        "import librosa\n",
        "import random\n",
        "import pydub\n",
        "import librosa.display"
      ],
      "metadata": {
        "id": "f9f8OTaEWiRd"
      },
      "execution_count": 3,
      "outputs": []
    },
    {
      "cell_type": "code",
      "source": [
        "def absolute_file_paths(directory): #setting path\n",
        "    path = os.path.abspath(directory)\n",
        "    return [entry.path for entry in os.scandir(path) if entry.is_file()]\n",
        "\n",
        "scream_paths = absolute_file_paths('/content/gdrive/MyDrive/Scream Data/positive')\n",
        "non_scream_paths = absolute_file_paths('/content/gdrive/MyDrive/Scream Data/negative')\n",
        "atmospheric_paths = absolute_file_paths('/content/gdrive/MyDrive/Scream Data/atmospheric_sounds')"
      ],
      "metadata": {
        "id": "hv29qu0lWliC"
      },
      "execution_count": 4,
      "outputs": []
    },
    {
      "cell_type": "code",
      "source": [
        "all_paths = []\n",
        "all_labels = []\n",
        "\n",
        "for scream in scream_paths:\n",
        "    label = 'scream'\n",
        "    all_paths.append(scream)\n",
        "    all_labels.append(label)\n",
        "\n",
        "for non_scream in non_scream_paths:\n",
        "    label = 'non_scream'\n",
        "    all_paths.append(non_scream)\n",
        "    all_labels.append(label)\n",
        "\n",
        "for atmos in atmospheric_paths:\n",
        "    label = 'atmospheric'\n",
        "    all_paths.append(atmos)\n",
        "    all_labels.append(label)"
      ],
      "metadata": {
        "id": "TTCpBPPEXBAg"
      },
      "execution_count": 5,
      "outputs": []
    },
    {
      "cell_type": "code",
      "source": [
        "lb = LabelBinarizer()\n",
        "labels = lb.fit_transform(all_labels)\n",
        "labels.shape"
      ],
      "metadata": {
        "colab": {
          "base_uri": "https://localhost:8080/"
        },
        "id": "_XuE_w_0p8ng",
        "outputId": "d46728e5-d7ee-496a-aa2d-c069b8ed74d5"
      },
      "execution_count": 6,
      "outputs": [
        {
          "output_type": "execute_result",
          "data": {
            "text/plain": [
              "(211, 3)"
            ]
          },
          "metadata": {},
          "execution_count": 6
        }
      ]
    },
    {
      "cell_type": "code",
      "source": [
        "### Train Test Split\n",
        "X_train,X_test,y_train,y_test=train_test_split(all_paths ,labels ,test_size=0.3,random_state=0)"
      ],
      "metadata": {
        "id": "XyNZo80qXyqP"
      },
      "execution_count": 7,
      "outputs": []
    },
    {
      "cell_type": "code",
      "source": [
        "print(len(X_train))\n",
        "print(len(X_test))\n",
        "print(len(y_train))\n",
        "print(len(y_test))"
      ],
      "metadata": {
        "colab": {
          "base_uri": "https://localhost:8080/"
        },
        "id": "WoQqVR0dgJGI",
        "outputId": "516f5f1c-4f95-4ae8-f07c-fa8a9030abc3"
      },
      "execution_count": 8,
      "outputs": [
        {
          "output_type": "stream",
          "name": "stdout",
          "text": [
            "147\n",
            "64\n",
            "147\n",
            "64\n"
          ]
        }
      ]
    },
    {
      "cell_type": "code",
      "source": [
        "def get_signal(file_name):\n",
        "    audio, sample_rate = librosa.load(file_name, res_type='kaiser_fast') \n",
        "    return audio, sample_rate\n",
        "\n",
        "X_train_signal = []\n",
        "for audio in X_train:\n",
        "    signal , sr =  get_signal(audio)\n",
        "    X_train_signal.append([signal, sr])\n",
        "    "
      ],
      "metadata": {
        "colab": {
          "base_uri": "https://localhost:8080/"
        },
        "id": "WTsuUZPuZdL-",
        "outputId": "13653235-af1b-4cde-efa3-6a66c7e33e8e"
      },
      "execution_count": 9,
      "outputs": [
        {
          "output_type": "stream",
          "name": "stderr",
          "text": [
            "/usr/local/lib/python3.7/dist-packages/librosa/core/audio.py:165: UserWarning: PySoundFile failed. Trying audioread instead.\n",
            "  warnings.warn(\"PySoundFile failed. Trying audioread instead.\")\n"
          ]
        }
      ]
    },
    {
      "cell_type": "code",
      "source": [
        "def data_aug(signal, sample_rate):\n",
        "\n",
        "    noise_factor = [0.1, 0.15, 0.2, 0.25, 0.3, 0.35]\n",
        "    stretch_rate = [0.6, 0.65, 0.7, 0.75, 0.8]\n",
        "    num_semitones = [-2,-1, 0, 1, 2]\n",
        "\n",
        "    noise = np.random.normal(0,signal.std(), signal.size)  # Noise vector created using Gaussian Distribution\n",
        "\n",
        "    augmented_1 =  signal + noise * random.choice(noise_factor)\n",
        "\n",
        "    augmented_2 =  librosa.effects.time_stretch(augmented_1, random.choice(stretch_rate))\n",
        "\n",
        "    augmented_3 =  librosa.effects.pitch_shift(augmented_2 , sample_rate , random.choice(num_semitones))\n",
        "\n",
        "    return augmented_3, sample_rate\n",
        "\n",
        "augmented_signals = []\n",
        "for signals in X_train_signal:\n",
        "\n",
        "    signal = signals[0]\n",
        "    sample_rate = signals[1]\n",
        "    augmented_signal, sample_rate = data_aug(signal, sample_rate)\n",
        "    augmented_signals.append([augmented_signal, sample_rate])"
      ],
      "metadata": {
        "id": "tP9SnoroaOwv"
      },
      "execution_count": 10,
      "outputs": []
    },
    {
      "cell_type": "code",
      "source": [
        "augmented_signals = np.asarray(augmented_signals)\n",
        "X_train_signal   = np.asarray(X_train_signal)\n",
        "\n",
        "print(augmented_signals.shape)\n",
        "print(X_train_signal.shape)\n",
        "\n",
        "new_X_train = np.concatenate((augmented_signals, X_train_signal), axis=0)\n",
        "print(new_X_train.shape)"
      ],
      "metadata": {
        "colab": {
          "base_uri": "https://localhost:8080/"
        },
        "id": "EdBHcaQeeWh4",
        "outputId": "57b4350c-bae2-4907-bb0c-1a4764d36747"
      },
      "execution_count": 11,
      "outputs": [
        {
          "output_type": "stream",
          "name": "stdout",
          "text": [
            "(147, 2)\n",
            "(147, 2)\n",
            "(294, 2)\n"
          ]
        },
        {
          "output_type": "stream",
          "name": "stderr",
          "text": [
            "/usr/local/lib/python3.7/dist-packages/numpy/core/_asarray.py:83: VisibleDeprecationWarning: Creating an ndarray from ragged nested sequences (which is a list-or-tuple of lists-or-tuples-or ndarrays with different lengths or shapes) is deprecated. If you meant to do this, you must specify 'dtype=object' when creating the ndarray\n",
            "  return array(a, dtype, copy=False, order=order)\n"
          ]
        }
      ]
    },
    {
      "cell_type": "code",
      "source": [
        "y_train_1 = np.copy(y_train)\n",
        "new_y_train = np.concatenate((y_train, y_train_1), axis=0)\n",
        "\n",
        "print(new_y_train.shape)"
      ],
      "metadata": {
        "colab": {
          "base_uri": "https://localhost:8080/"
        },
        "id": "IT_W4IAPfuZt",
        "outputId": "951ed232-4c3d-44fa-ef39-d9807bf2ff15"
      },
      "execution_count": 12,
      "outputs": [
        {
          "output_type": "stream",
          "name": "stdout",
          "text": [
            "(294, 3)\n"
          ]
        }
      ]
    },
    {
      "cell_type": "code",
      "source": [
        "def features_extractor(audio, sample_rate):\n",
        "    mfccs_features = librosa.feature.mfcc(y=audio, sr=sample_rate, n_mfcc=40) #spectogram? feature engineering for audio\n",
        "    mfccs_scaled_features = np.mean(mfccs_features.T,axis=0) #scaling, mean , standardization?\n",
        "    \n",
        "    return mfccs_scaled_features\n",
        "\n",
        "X_train_features = []\n",
        "for x in new_X_train:\n",
        "    #new_X_train_features = features_extractor()\n",
        "    audio = x[0]\n",
        "    sample_rate = x[1]\n",
        "    mfccs_scaled_features = features_extractor(audio, sample_rate)\n",
        "    X_train_features.append(mfccs_scaled_features)"
      ],
      "metadata": {
        "id": "yrSpUIzVhs4A"
      },
      "execution_count": 13,
      "outputs": []
    },
    {
      "cell_type": "code",
      "source": [
        "X_train_features = np.asarray(X_train_features)\n",
        "X_train_features.shape"
      ],
      "metadata": {
        "colab": {
          "base_uri": "https://localhost:8080/"
        },
        "id": "NK2-ejQtipl8",
        "outputId": "0367e6fb-0bd9-4700-a187-9de8d7380ed4"
      },
      "execution_count": 14,
      "outputs": [
        {
          "output_type": "execute_result",
          "data": {
            "text/plain": [
              "(294, 40)"
            ]
          },
          "metadata": {},
          "execution_count": 14
        }
      ]
    },
    {
      "cell_type": "code",
      "source": [
        "def features_extractor_test(file_name):\n",
        "    audio, sample_rate = librosa.load(file_name, res_type='kaiser_fast') #loading audio files, #sample rate- numerical int value of each music file\n",
        "    mfccs_features = librosa.feature.mfcc(y=audio, sr=sample_rate, n_mfcc=40) #spectogram? feature engineering for audio\n",
        "    mfccs_scaled_features = np.mean(mfccs_features.T,axis=0) #scaling, mean , standardization?\n",
        "    \n",
        "    return mfccs_scaled_features\n",
        "\n",
        "X_test_features = []\n",
        "for x in X_test:\n",
        "    data = features_extractor_test(x)\n",
        "    X_test_features.append(data)\n",
        "\n",
        "X_test_features = np.asarray(X_test_features)\n",
        "X_test_features.shape"
      ],
      "metadata": {
        "colab": {
          "base_uri": "https://localhost:8080/"
        },
        "id": "aCstJmpmoZqu",
        "outputId": "f6e18cef-a33f-4739-d420-92d744e56748"
      },
      "execution_count": 15,
      "outputs": [
        {
          "output_type": "execute_result",
          "data": {
            "text/plain": [
              "(64, 40)"
            ]
          },
          "metadata": {},
          "execution_count": 15
        }
      ]
    },
    {
      "cell_type": "code",
      "source": [
        "print(X_train_features.shape)\n",
        "print(new_y_train.shape)\n",
        "print(X_test_features.shape)\n",
        "print(y_test.shape)"
      ],
      "metadata": {
        "colab": {
          "base_uri": "https://localhost:8080/"
        },
        "id": "g7hXwh7YpoT8",
        "outputId": "7cd77850-1a8e-4f63-b05c-9298c12247f5"
      },
      "execution_count": 16,
      "outputs": [
        {
          "output_type": "stream",
          "name": "stdout",
          "text": [
            "(294, 40)\n",
            "(294, 3)\n",
            "(64, 40)\n",
            "(64, 3)\n"
          ]
        }
      ]
    },
    {
      "cell_type": "code",
      "source": [
        "num_labels = y_test.shape[1]"
      ],
      "metadata": {
        "id": "NtCFslHKsdPF"
      },
      "execution_count": 17,
      "outputs": []
    },
    {
      "cell_type": "code",
      "source": [
        "model=Sequential() \n",
        "###first layer\n",
        "model.add(Dense(100,input_shape=(40,)))\n",
        "model.add(Activation('relu'))\n",
        "model.add(Dropout(0.5))\n",
        "###second layer\n",
        "model.add(Dense(200))\n",
        "model.add(Activation('relu'))\n",
        "model.add(Dropout(0.5))\n",
        "###third layer\n",
        "model.add(Dense(100))\n",
        "model.add(Activation('relu'))\n",
        "model.add(Dropout(0.5))\n",
        "\n",
        "###final layer\n",
        "model.add(Dense(num_labels))\n",
        "model.add(Activation('softmax'))"
      ],
      "metadata": {
        "id": "DBeWwTG7sfjw"
      },
      "execution_count": 18,
      "outputs": []
    },
    {
      "cell_type": "code",
      "source": [
        "model.compile(loss='categorical_crossentropy',metrics=['accuracy'],optimizer='adam')"
      ],
      "metadata": {
        "id": "E27eFWZCsk9r"
      },
      "execution_count": 19,
      "outputs": []
    },
    {
      "cell_type": "code",
      "source": [
        "## Trianing my model\n",
        "from tensorflow.keras.callbacks import ModelCheckpoint\n",
        "from datetime import datetime \n",
        "\n",
        "num_epochs = 100\n",
        "num_batch_size = 32\n",
        "\n",
        "checkpointer = ModelCheckpoint(filepath='saved_models/audio_classification.hdf5', \n",
        "                               verbose=1, save_best_only=True)\n",
        "start = datetime.now()\n",
        "\n",
        "history = model.fit(X_train_features, new_y_train, batch_size=num_batch_size, epochs=num_epochs, validation_data=(X_test_features, y_test), callbacks=[checkpointer],\n",
        "          verbose=1, shuffle = True)\n",
        "\n",
        "\n",
        "duration = datetime.now() - start\n",
        "print(\"Training completed in time: \", duration)"
      ],
      "metadata": {
        "colab": {
          "base_uri": "https://localhost:8080/"
        },
        "id": "fC4ypqhTsmKv",
        "outputId": "5fdeb1dc-e724-4e0f-cdf8-6e6538e42aa1"
      },
      "execution_count": 20,
      "outputs": [
        {
          "output_type": "stream",
          "name": "stdout",
          "text": [
            "Epoch 1/100\n",
            " 1/10 [==>...........................] - ETA: 19s - loss: 25.1838 - accuracy: 0.3750\n",
            "Epoch 00001: val_loss improved from inf to 9.26968, saving model to saved_models/audio_classification.hdf5\n",
            "10/10 [==============================] - 2s 34ms/step - loss: 26.3995 - accuracy: 0.3231 - val_loss: 9.2697 - val_accuracy: 0.4844\n",
            "Epoch 2/100\n",
            " 1/10 [==>...........................] - ETA: 0s - loss: 19.7919 - accuracy: 0.3750\n",
            "Epoch 00002: val_loss improved from 9.26968 to 1.74483, saving model to saved_models/audio_classification.hdf5\n",
            "10/10 [==============================] - 0s 10ms/step - loss: 18.1032 - accuracy: 0.3605 - val_loss: 1.7448 - val_accuracy: 0.7812\n",
            "Epoch 3/100\n",
            " 1/10 [==>...........................] - ETA: 0s - loss: 13.5589 - accuracy: 0.4688\n",
            "Epoch 00003: val_loss improved from 1.74483 to 1.33522, saving model to saved_models/audio_classification.hdf5\n",
            "10/10 [==============================] - 0s 13ms/step - loss: 11.6107 - accuracy: 0.4864 - val_loss: 1.3352 - val_accuracy: 0.7969\n",
            "Epoch 4/100\n",
            " 1/10 [==>...........................] - ETA: 0s - loss: 7.1152 - accuracy: 0.4375\n",
            "Epoch 00004: val_loss improved from 1.33522 to 1.03135, saving model to saved_models/audio_classification.hdf5\n",
            "10/10 [==============================] - 0s 12ms/step - loss: 9.2507 - accuracy: 0.4626 - val_loss: 1.0314 - val_accuracy: 0.7969\n",
            "Epoch 5/100\n",
            " 1/10 [==>...........................] - ETA: 0s - loss: 8.8477 - accuracy: 0.4688\n",
            "Epoch 00005: val_loss did not improve from 1.03135\n",
            "10/10 [==============================] - 0s 8ms/step - loss: 8.4054 - accuracy: 0.4796 - val_loss: 1.0326 - val_accuracy: 0.7969\n",
            "Epoch 6/100\n",
            " 1/10 [==>...........................] - ETA: 0s - loss: 8.8465 - accuracy: 0.5000\n",
            "Epoch 00006: val_loss improved from 1.03135 to 0.93345, saving model to saved_models/audio_classification.hdf5\n",
            "10/10 [==============================] - 0s 12ms/step - loss: 7.1625 - accuracy: 0.5136 - val_loss: 0.9334 - val_accuracy: 0.8125\n",
            "Epoch 7/100\n",
            " 1/10 [==>...........................] - ETA: 0s - loss: 7.7092 - accuracy: 0.5312\n",
            "Epoch 00007: val_loss improved from 0.93345 to 0.72947, saving model to saved_models/audio_classification.hdf5\n",
            "10/10 [==============================] - 0s 12ms/step - loss: 5.8752 - accuracy: 0.5544 - val_loss: 0.7295 - val_accuracy: 0.8125\n",
            "Epoch 8/100\n",
            " 1/10 [==>...........................] - ETA: 0s - loss: 7.5073 - accuracy: 0.3750\n",
            "Epoch 00008: val_loss improved from 0.72947 to 0.64153, saving model to saved_models/audio_classification.hdf5\n",
            "10/10 [==============================] - 0s 12ms/step - loss: 4.9135 - accuracy: 0.5510 - val_loss: 0.6415 - val_accuracy: 0.8281\n",
            "Epoch 9/100\n",
            " 1/10 [==>...........................] - ETA: 0s - loss: 5.7971 - accuracy: 0.5312\n",
            "Epoch 00009: val_loss did not improve from 0.64153\n",
            "10/10 [==============================] - 0s 7ms/step - loss: 4.6353 - accuracy: 0.5918 - val_loss: 0.6469 - val_accuracy: 0.8281\n",
            "Epoch 10/100\n",
            "10/10 [==============================] - ETA: 0s - loss: 3.3282 - accuracy: 0.6259\n",
            "Epoch 00010: val_loss improved from 0.64153 to 0.62246, saving model to saved_models/audio_classification.hdf5\n",
            "10/10 [==============================] - 0s 13ms/step - loss: 3.3282 - accuracy: 0.6259 - val_loss: 0.6225 - val_accuracy: 0.8125\n",
            "Epoch 11/100\n",
            " 1/10 [==>...........................] - ETA: 0s - loss: 2.9415 - accuracy: 0.7500\n",
            "Epoch 00011: val_loss improved from 0.62246 to 0.57098, saving model to saved_models/audio_classification.hdf5\n",
            "10/10 [==============================] - 0s 11ms/step - loss: 2.9808 - accuracy: 0.6463 - val_loss: 0.5710 - val_accuracy: 0.8750\n",
            "Epoch 12/100\n",
            " 1/10 [==>...........................] - ETA: 0s - loss: 3.9673 - accuracy: 0.5312\n",
            "Epoch 00012: val_loss improved from 0.57098 to 0.52131, saving model to saved_models/audio_classification.hdf5\n",
            "10/10 [==============================] - 0s 11ms/step - loss: 2.9034 - accuracy: 0.6054 - val_loss: 0.5213 - val_accuracy: 0.8594\n",
            "Epoch 13/100\n",
            " 1/10 [==>...........................] - ETA: 0s - loss: 1.5450 - accuracy: 0.7188\n",
            "Epoch 00013: val_loss improved from 0.52131 to 0.48844, saving model to saved_models/audio_classification.hdf5\n",
            "10/10 [==============================] - 0s 11ms/step - loss: 2.4305 - accuracy: 0.6497 - val_loss: 0.4884 - val_accuracy: 0.8750\n",
            "Epoch 14/100\n",
            " 1/10 [==>...........................] - ETA: 0s - loss: 3.8777 - accuracy: 0.5938\n",
            "Epoch 00014: val_loss improved from 0.48844 to 0.48064, saving model to saved_models/audio_classification.hdf5\n",
            "10/10 [==============================] - 0s 12ms/step - loss: 2.5274 - accuracy: 0.6327 - val_loss: 0.4806 - val_accuracy: 0.8750\n",
            "Epoch 15/100\n",
            " 1/10 [==>...........................] - ETA: 0s - loss: 1.9181 - accuracy: 0.6562\n",
            "Epoch 00015: val_loss improved from 0.48064 to 0.46159, saving model to saved_models/audio_classification.hdf5\n",
            "10/10 [==============================] - 0s 11ms/step - loss: 2.3155 - accuracy: 0.6633 - val_loss: 0.4616 - val_accuracy: 0.8594\n",
            "Epoch 16/100\n",
            " 1/10 [==>...........................] - ETA: 0s - loss: 2.3163 - accuracy: 0.5938\n",
            "Epoch 00016: val_loss improved from 0.46159 to 0.45322, saving model to saved_models/audio_classification.hdf5\n",
            "10/10 [==============================] - 0s 11ms/step - loss: 2.1408 - accuracy: 0.6667 - val_loss: 0.4532 - val_accuracy: 0.8750\n",
            "Epoch 17/100\n",
            " 1/10 [==>...........................] - ETA: 0s - loss: 1.9321 - accuracy: 0.7500\n",
            "Epoch 00017: val_loss did not improve from 0.45322\n",
            "10/10 [==============================] - 0s 7ms/step - loss: 2.0712 - accuracy: 0.6531 - val_loss: 0.4544 - val_accuracy: 0.8750\n",
            "Epoch 18/100\n",
            " 1/10 [==>...........................] - ETA: 0s - loss: 2.3919 - accuracy: 0.5938\n",
            "Epoch 00018: val_loss did not improve from 0.45322\n",
            "10/10 [==============================] - 0s 7ms/step - loss: 2.0604 - accuracy: 0.6293 - val_loss: 0.4634 - val_accuracy: 0.8906\n",
            "Epoch 19/100\n",
            " 1/10 [==>...........................] - ETA: 0s - loss: 0.7920 - accuracy: 0.6875\n",
            "Epoch 00019: val_loss did not improve from 0.45322\n",
            "10/10 [==============================] - 0s 8ms/step - loss: 1.6384 - accuracy: 0.6973 - val_loss: 0.4740 - val_accuracy: 0.8906\n",
            "Epoch 20/100\n",
            " 1/10 [==>...........................] - ETA: 0s - loss: 2.6861 - accuracy: 0.7812\n",
            "Epoch 00020: val_loss did not improve from 0.45322\n",
            "10/10 [==============================] - 0s 9ms/step - loss: 1.8960 - accuracy: 0.6905 - val_loss: 0.4745 - val_accuracy: 0.8906\n",
            "Epoch 21/100\n",
            " 1/10 [==>...........................] - ETA: 0s - loss: 2.0476 - accuracy: 0.6562\n",
            "Epoch 00021: val_loss did not improve from 0.45322\n",
            "10/10 [==============================] - 0s 7ms/step - loss: 1.6505 - accuracy: 0.6905 - val_loss: 0.4821 - val_accuracy: 0.9062\n",
            "Epoch 22/100\n",
            " 1/10 [==>...........................] - ETA: 0s - loss: 0.7380 - accuracy: 0.7500\n",
            "Epoch 00022: val_loss did not improve from 0.45322\n",
            "10/10 [==============================] - 0s 7ms/step - loss: 1.7284 - accuracy: 0.6803 - val_loss: 0.4726 - val_accuracy: 0.8906\n",
            "Epoch 23/100\n",
            " 1/10 [==>...........................] - ETA: 0s - loss: 1.8818 - accuracy: 0.6562\n",
            "Epoch 00023: val_loss did not improve from 0.45322\n",
            "10/10 [==============================] - 0s 7ms/step - loss: 1.5715 - accuracy: 0.7109 - val_loss: 0.4597 - val_accuracy: 0.8906\n",
            "Epoch 24/100\n",
            " 1/10 [==>...........................] - ETA: 0s - loss: 1.7942 - accuracy: 0.6875\n",
            "Epoch 00024: val_loss did not improve from 0.45322\n",
            "10/10 [==============================] - 0s 7ms/step - loss: 1.5346 - accuracy: 0.6803 - val_loss: 0.4627 - val_accuracy: 0.8906\n",
            "Epoch 25/100\n",
            " 1/10 [==>...........................] - ETA: 0s - loss: 1.4418 - accuracy: 0.7188\n",
            "Epoch 00025: val_loss did not improve from 0.45322\n",
            "10/10 [==============================] - 0s 8ms/step - loss: 1.1681 - accuracy: 0.7347 - val_loss: 0.4882 - val_accuracy: 0.8906\n",
            "Epoch 26/100\n",
            " 1/10 [==>...........................] - ETA: 0s - loss: 1.7199 - accuracy: 0.6562\n",
            "Epoch 00026: val_loss did not improve from 0.45322\n",
            "10/10 [==============================] - 0s 7ms/step - loss: 1.0585 - accuracy: 0.7653 - val_loss: 0.4846 - val_accuracy: 0.8750\n",
            "Epoch 27/100\n",
            " 1/10 [==>...........................] - ETA: 0s - loss: 1.3464 - accuracy: 0.5938\n",
            "Epoch 00027: val_loss did not improve from 0.45322\n",
            "10/10 [==============================] - 0s 7ms/step - loss: 1.3953 - accuracy: 0.7279 - val_loss: 0.4728 - val_accuracy: 0.8750\n",
            "Epoch 28/100\n",
            " 1/10 [==>...........................] - ETA: 0s - loss: 1.4107 - accuracy: 0.5938\n",
            "Epoch 00028: val_loss did not improve from 0.45322\n",
            "10/10 [==============================] - 0s 7ms/step - loss: 1.2443 - accuracy: 0.7007 - val_loss: 0.4678 - val_accuracy: 0.8594\n",
            "Epoch 29/100\n",
            " 1/10 [==>...........................] - ETA: 0s - loss: 1.3462 - accuracy: 0.6250\n",
            "Epoch 00029: val_loss did not improve from 0.45322\n",
            "10/10 [==============================] - 0s 7ms/step - loss: 1.0556 - accuracy: 0.7381 - val_loss: 0.4548 - val_accuracy: 0.8750\n",
            "Epoch 30/100\n",
            " 1/10 [==>...........................] - ETA: 0s - loss: 0.7884 - accuracy: 0.7188\n",
            "Epoch 00030: val_loss improved from 0.45322 to 0.44686, saving model to saved_models/audio_classification.hdf5\n",
            "10/10 [==============================] - 0s 11ms/step - loss: 0.9684 - accuracy: 0.7279 - val_loss: 0.4469 - val_accuracy: 0.9062\n",
            "Epoch 31/100\n",
            " 1/10 [==>...........................] - ETA: 0s - loss: 2.3772 - accuracy: 0.5000\n",
            "Epoch 00031: val_loss did not improve from 0.44686\n",
            "10/10 [==============================] - 0s 8ms/step - loss: 0.9602 - accuracy: 0.7585 - val_loss: 0.4469 - val_accuracy: 0.9062\n",
            "Epoch 32/100\n",
            " 1/10 [==>...........................] - ETA: 0s - loss: 0.8526 - accuracy: 0.6562\n",
            "Epoch 00032: val_loss did not improve from 0.44686\n",
            "10/10 [==============================] - 0s 7ms/step - loss: 0.8518 - accuracy: 0.7551 - val_loss: 0.4538 - val_accuracy: 0.9219\n",
            "Epoch 33/100\n",
            " 1/10 [==>...........................] - ETA: 0s - loss: 1.1569 - accuracy: 0.7188\n",
            "Epoch 00033: val_loss did not improve from 0.44686\n",
            "10/10 [==============================] - 0s 7ms/step - loss: 0.6576 - accuracy: 0.8027 - val_loss: 0.4600 - val_accuracy: 0.9062\n",
            "Epoch 34/100\n",
            " 1/10 [==>...........................] - ETA: 0s - loss: 1.0534 - accuracy: 0.6562\n",
            "Epoch 00034: val_loss did not improve from 0.44686\n",
            "10/10 [==============================] - 0s 7ms/step - loss: 0.9879 - accuracy: 0.7211 - val_loss: 0.4757 - val_accuracy: 0.9062\n",
            "Epoch 35/100\n",
            " 1/10 [==>...........................] - ETA: 0s - loss: 0.2986 - accuracy: 0.8750\n",
            "Epoch 00035: val_loss did not improve from 0.44686\n",
            "10/10 [==============================] - 0s 7ms/step - loss: 0.8081 - accuracy: 0.7891 - val_loss: 0.4871 - val_accuracy: 0.9062\n",
            "Epoch 36/100\n",
            " 1/10 [==>...........................] - ETA: 0s - loss: 0.5794 - accuracy: 0.8750\n",
            "Epoch 00036: val_loss did not improve from 0.44686\n",
            "10/10 [==============================] - 0s 7ms/step - loss: 0.8703 - accuracy: 0.7721 - val_loss: 0.4917 - val_accuracy: 0.9062\n",
            "Epoch 37/100\n",
            " 1/10 [==>...........................] - ETA: 0s - loss: 0.1555 - accuracy: 0.9062\n",
            "Epoch 00037: val_loss did not improve from 0.44686\n",
            "10/10 [==============================] - 0s 7ms/step - loss: 0.7922 - accuracy: 0.7721 - val_loss: 0.4958 - val_accuracy: 0.9062\n",
            "Epoch 38/100\n",
            " 1/10 [==>...........................] - ETA: 0s - loss: 1.2688 - accuracy: 0.7812\n",
            "Epoch 00038: val_loss did not improve from 0.44686\n",
            "10/10 [==============================] - 0s 8ms/step - loss: 0.9660 - accuracy: 0.7449 - val_loss: 0.4800 - val_accuracy: 0.8750\n",
            "Epoch 39/100\n",
            " 1/10 [==>...........................] - ETA: 0s - loss: 0.7966 - accuracy: 0.7812\n",
            "Epoch 00039: val_loss did not improve from 0.44686\n",
            "10/10 [==============================] - 0s 7ms/step - loss: 0.6505 - accuracy: 0.8231 - val_loss: 0.4740 - val_accuracy: 0.8750\n",
            "Epoch 40/100\n",
            " 1/10 [==>...........................] - ETA: 0s - loss: 1.2239 - accuracy: 0.6875\n",
            "Epoch 00040: val_loss did not improve from 0.44686\n",
            "10/10 [==============================] - 0s 7ms/step - loss: 0.7412 - accuracy: 0.7891 - val_loss: 0.4799 - val_accuracy: 0.8906\n",
            "Epoch 41/100\n",
            " 1/10 [==>...........................] - ETA: 0s - loss: 0.6014 - accuracy: 0.7812\n",
            "Epoch 00041: val_loss did not improve from 0.44686\n",
            "10/10 [==============================] - 0s 7ms/step - loss: 0.6465 - accuracy: 0.7891 - val_loss: 0.4837 - val_accuracy: 0.8906\n",
            "Epoch 42/100\n",
            " 1/10 [==>...........................] - ETA: 0s - loss: 0.7303 - accuracy: 0.8125\n",
            "Epoch 00042: val_loss did not improve from 0.44686\n",
            "10/10 [==============================] - 0s 8ms/step - loss: 0.8663 - accuracy: 0.7789 - val_loss: 0.4839 - val_accuracy: 0.9219\n",
            "Epoch 43/100\n",
            " 1/10 [==>...........................] - ETA: 0s - loss: 0.5182 - accuracy: 0.8125\n",
            "Epoch 00043: val_loss did not improve from 0.44686\n",
            "10/10 [==============================] - 0s 8ms/step - loss: 0.6428 - accuracy: 0.7857 - val_loss: 0.4764 - val_accuracy: 0.9219\n",
            "Epoch 44/100\n",
            "10/10 [==============================] - ETA: 0s - loss: 0.5654 - accuracy: 0.8095\n",
            "Epoch 00044: val_loss did not improve from 0.44686\n",
            "10/10 [==============================] - 0s 9ms/step - loss: 0.5654 - accuracy: 0.8095 - val_loss: 0.4741 - val_accuracy: 0.9219\n",
            "Epoch 45/100\n",
            " 1/10 [==>...........................] - ETA: 0s - loss: 0.5761 - accuracy: 0.7812\n",
            "Epoch 00045: val_loss did not improve from 0.44686\n",
            "10/10 [==============================] - 0s 7ms/step - loss: 0.6602 - accuracy: 0.8197 - val_loss: 0.4710 - val_accuracy: 0.8906\n",
            "Epoch 46/100\n",
            " 1/10 [==>...........................] - ETA: 0s - loss: 0.4562 - accuracy: 0.7812\n",
            "Epoch 00046: val_loss did not improve from 0.44686\n",
            "10/10 [==============================] - 0s 7ms/step - loss: 0.6354 - accuracy: 0.7925 - val_loss: 0.4774 - val_accuracy: 0.8906\n",
            "Epoch 47/100\n",
            " 1/10 [==>...........................] - ETA: 0s - loss: 0.4146 - accuracy: 0.7812\n",
            "Epoch 00047: val_loss did not improve from 0.44686\n",
            "10/10 [==============================] - 0s 8ms/step - loss: 0.5364 - accuracy: 0.8299 - val_loss: 0.4823 - val_accuracy: 0.9062\n",
            "Epoch 48/100\n",
            " 1/10 [==>...........................] - ETA: 0s - loss: 0.4171 - accuracy: 0.8438\n",
            "Epoch 00048: val_loss did not improve from 0.44686\n",
            "10/10 [==============================] - 0s 7ms/step - loss: 0.5011 - accuracy: 0.7993 - val_loss: 0.4837 - val_accuracy: 0.9062\n",
            "Epoch 49/100\n",
            " 1/10 [==>...........................] - ETA: 0s - loss: 0.8142 - accuracy: 0.7500\n",
            "Epoch 00049: val_loss did not improve from 0.44686\n",
            "10/10 [==============================] - 0s 7ms/step - loss: 0.6971 - accuracy: 0.7925 - val_loss: 0.4929 - val_accuracy: 0.9062\n",
            "Epoch 50/100\n",
            " 1/10 [==>...........................] - ETA: 0s - loss: 0.8556 - accuracy: 0.7812\n",
            "Epoch 00050: val_loss did not improve from 0.44686\n",
            "10/10 [==============================] - 0s 8ms/step - loss: 0.5792 - accuracy: 0.7891 - val_loss: 0.4963 - val_accuracy: 0.9062\n",
            "Epoch 51/100\n",
            " 1/10 [==>...........................] - ETA: 0s - loss: 0.3851 - accuracy: 0.8750\n",
            "Epoch 00051: val_loss did not improve from 0.44686\n",
            "10/10 [==============================] - 0s 7ms/step - loss: 0.5689 - accuracy: 0.8163 - val_loss: 0.4921 - val_accuracy: 0.9219\n",
            "Epoch 52/100\n",
            " 1/10 [==>...........................] - ETA: 0s - loss: 0.5528 - accuracy: 0.8125\n",
            "Epoch 00052: val_loss did not improve from 0.44686\n",
            "10/10 [==============================] - 0s 7ms/step - loss: 0.5364 - accuracy: 0.8231 - val_loss: 0.4846 - val_accuracy: 0.9062\n",
            "Epoch 53/100\n",
            " 1/10 [==>...........................] - ETA: 0s - loss: 0.5445 - accuracy: 0.8438\n",
            "Epoch 00053: val_loss did not improve from 0.44686\n",
            "10/10 [==============================] - 0s 7ms/step - loss: 0.4524 - accuracy: 0.8503 - val_loss: 0.4833 - val_accuracy: 0.9062\n",
            "Epoch 54/100\n",
            " 1/10 [==>...........................] - ETA: 0s - loss: 0.8231 - accuracy: 0.7812\n",
            "Epoch 00054: val_loss did not improve from 0.44686\n",
            "10/10 [==============================] - 0s 7ms/step - loss: 0.4981 - accuracy: 0.8197 - val_loss: 0.4843 - val_accuracy: 0.9219\n",
            "Epoch 55/100\n",
            " 1/10 [==>...........................] - ETA: 0s - loss: 0.6003 - accuracy: 0.7188\n",
            "Epoch 00055: val_loss did not improve from 0.44686\n",
            "10/10 [==============================] - 0s 7ms/step - loss: 0.4943 - accuracy: 0.8163 - val_loss: 0.4814 - val_accuracy: 0.9219\n",
            "Epoch 56/100\n",
            " 1/10 [==>...........................] - ETA: 0s - loss: 0.5978 - accuracy: 0.7812\n",
            "Epoch 00056: val_loss did not improve from 0.44686\n",
            "10/10 [==============================] - 0s 8ms/step - loss: 0.4096 - accuracy: 0.8503 - val_loss: 0.4787 - val_accuracy: 0.9062\n",
            "Epoch 57/100\n",
            " 1/10 [==>...........................] - ETA: 0s - loss: 0.9336 - accuracy: 0.8438\n",
            "Epoch 00057: val_loss did not improve from 0.44686\n",
            "10/10 [==============================] - 0s 7ms/step - loss: 0.5414 - accuracy: 0.8503 - val_loss: 0.4801 - val_accuracy: 0.9062\n",
            "Epoch 58/100\n",
            " 1/10 [==>...........................] - ETA: 0s - loss: 0.5313 - accuracy: 0.8125\n",
            "Epoch 00058: val_loss did not improve from 0.44686\n",
            "10/10 [==============================] - 0s 7ms/step - loss: 0.5378 - accuracy: 0.8333 - val_loss: 0.4840 - val_accuracy: 0.9062\n",
            "Epoch 59/100\n",
            " 1/10 [==>...........................] - ETA: 0s - loss: 0.3675 - accuracy: 0.9062\n",
            "Epoch 00059: val_loss did not improve from 0.44686\n",
            "10/10 [==============================] - 0s 7ms/step - loss: 0.6333 - accuracy: 0.7959 - val_loss: 0.4823 - val_accuracy: 0.8906\n",
            "Epoch 60/100\n",
            " 1/10 [==>...........................] - ETA: 0s - loss: 0.6733 - accuracy: 0.8125\n",
            "Epoch 00060: val_loss did not improve from 0.44686\n",
            "10/10 [==============================] - 0s 7ms/step - loss: 0.5552 - accuracy: 0.8367 - val_loss: 0.4765 - val_accuracy: 0.8906\n",
            "Epoch 61/100\n",
            " 1/10 [==>...........................] - ETA: 0s - loss: 0.3732 - accuracy: 0.8750\n",
            "Epoch 00061: val_loss did not improve from 0.44686\n",
            "10/10 [==============================] - 0s 7ms/step - loss: 0.3951 - accuracy: 0.8571 - val_loss: 0.4803 - val_accuracy: 0.8906\n",
            "Epoch 62/100\n",
            " 1/10 [==>...........................] - ETA: 0s - loss: 0.3563 - accuracy: 0.7812\n",
            "Epoch 00062: val_loss did not improve from 0.44686\n",
            "10/10 [==============================] - 0s 8ms/step - loss: 0.3498 - accuracy: 0.8571 - val_loss: 0.4904 - val_accuracy: 0.8906\n",
            "Epoch 63/100\n",
            " 1/10 [==>...........................] - ETA: 0s - loss: 0.2736 - accuracy: 0.9062\n",
            "Epoch 00063: val_loss did not improve from 0.44686\n",
            "10/10 [==============================] - 0s 7ms/step - loss: 0.4463 - accuracy: 0.8299 - val_loss: 0.5040 - val_accuracy: 0.9219\n",
            "Epoch 64/100\n",
            " 1/10 [==>...........................] - ETA: 0s - loss: 0.3054 - accuracy: 0.8750\n",
            "Epoch 00064: val_loss did not improve from 0.44686\n",
            "10/10 [==============================] - 0s 9ms/step - loss: 0.4377 - accuracy: 0.8469 - val_loss: 0.5106 - val_accuracy: 0.9219\n",
            "Epoch 65/100\n",
            " 1/10 [==>...........................] - ETA: 0s - loss: 0.5415 - accuracy: 0.7188\n",
            "Epoch 00065: val_loss did not improve from 0.44686\n",
            "10/10 [==============================] - 0s 9ms/step - loss: 0.4459 - accuracy: 0.8231 - val_loss: 0.5215 - val_accuracy: 0.9375\n",
            "Epoch 66/100\n",
            " 1/10 [==>...........................] - ETA: 0s - loss: 0.3508 - accuracy: 0.8750\n",
            "Epoch 00066: val_loss did not improve from 0.44686\n",
            "10/10 [==============================] - 0s 7ms/step - loss: 0.3913 - accuracy: 0.8946 - val_loss: 0.5264 - val_accuracy: 0.9531\n",
            "Epoch 67/100\n",
            " 1/10 [==>...........................] - ETA: 0s - loss: 0.2136 - accuracy: 0.9375\n",
            "Epoch 00067: val_loss did not improve from 0.44686\n",
            "10/10 [==============================] - 0s 7ms/step - loss: 0.4634 - accuracy: 0.8401 - val_loss: 0.5193 - val_accuracy: 0.9375\n",
            "Epoch 68/100\n",
            " 1/10 [==>...........................] - ETA: 0s - loss: 0.1945 - accuracy: 0.9062\n",
            "Epoch 00068: val_loss did not improve from 0.44686\n",
            "10/10 [==============================] - 0s 8ms/step - loss: 0.3768 - accuracy: 0.8503 - val_loss: 0.5096 - val_accuracy: 0.9219\n",
            "Epoch 69/100\n",
            " 1/10 [==>...........................] - ETA: 0s - loss: 0.4337 - accuracy: 0.8438\n",
            "Epoch 00069: val_loss did not improve from 0.44686\n",
            "10/10 [==============================] - 0s 7ms/step - loss: 0.3574 - accuracy: 0.8741 - val_loss: 0.5107 - val_accuracy: 0.9219\n",
            "Epoch 70/100\n",
            " 1/10 [==>...........................] - ETA: 0s - loss: 0.4746 - accuracy: 0.8750\n",
            "Epoch 00070: val_loss did not improve from 0.44686\n",
            "10/10 [==============================] - 0s 7ms/step - loss: 0.3672 - accuracy: 0.8810 - val_loss: 0.5110 - val_accuracy: 0.9219\n",
            "Epoch 71/100\n",
            " 1/10 [==>...........................] - ETA: 0s - loss: 0.1477 - accuracy: 0.9375\n",
            "Epoch 00071: val_loss did not improve from 0.44686\n",
            "10/10 [==============================] - 0s 8ms/step - loss: 0.4181 - accuracy: 0.8231 - val_loss: 0.5184 - val_accuracy: 0.9219\n",
            "Epoch 72/100\n",
            " 1/10 [==>...........................] - ETA: 0s - loss: 0.3249 - accuracy: 0.8750\n",
            "Epoch 00072: val_loss did not improve from 0.44686\n",
            "10/10 [==============================] - 0s 7ms/step - loss: 0.3716 - accuracy: 0.8401 - val_loss: 0.5234 - val_accuracy: 0.9219\n",
            "Epoch 73/100\n",
            " 1/10 [==>...........................] - ETA: 0s - loss: 0.4725 - accuracy: 0.7812\n",
            "Epoch 00073: val_loss did not improve from 0.44686\n",
            "10/10 [==============================] - 0s 7ms/step - loss: 0.4232 - accuracy: 0.8605 - val_loss: 0.5183 - val_accuracy: 0.9219\n",
            "Epoch 74/100\n",
            " 1/10 [==>...........................] - ETA: 0s - loss: 0.5432 - accuracy: 0.8438\n",
            "Epoch 00074: val_loss did not improve from 0.44686\n",
            "10/10 [==============================] - 0s 7ms/step - loss: 0.3793 - accuracy: 0.8673 - val_loss: 0.5117 - val_accuracy: 0.9219\n",
            "Epoch 75/100\n",
            " 1/10 [==>...........................] - ETA: 0s - loss: 0.3764 - accuracy: 0.8438\n",
            "Epoch 00075: val_loss did not improve from 0.44686\n",
            "10/10 [==============================] - 0s 9ms/step - loss: 0.4472 - accuracy: 0.8571 - val_loss: 0.5044 - val_accuracy: 0.9375\n",
            "Epoch 76/100\n",
            " 1/10 [==>...........................] - ETA: 0s - loss: 0.4849 - accuracy: 0.8750\n",
            "Epoch 00076: val_loss did not improve from 0.44686\n",
            "10/10 [==============================] - 0s 8ms/step - loss: 0.3626 - accuracy: 0.8503 - val_loss: 0.5099 - val_accuracy: 0.9531\n",
            "Epoch 77/100\n",
            " 1/10 [==>...........................] - ETA: 0s - loss: 0.4194 - accuracy: 0.9375\n",
            "Epoch 00077: val_loss did not improve from 0.44686\n",
            "10/10 [==============================] - 0s 8ms/step - loss: 0.2940 - accuracy: 0.8741 - val_loss: 0.5203 - val_accuracy: 0.9531\n",
            "Epoch 78/100\n",
            " 1/10 [==>...........................] - ETA: 0s - loss: 0.0701 - accuracy: 0.9688\n",
            "Epoch 00078: val_loss did not improve from 0.44686\n",
            "10/10 [==============================] - 0s 7ms/step - loss: 0.3572 - accuracy: 0.8878 - val_loss: 0.5262 - val_accuracy: 0.9531\n",
            "Epoch 79/100\n",
            " 1/10 [==>...........................] - ETA: 0s - loss: 0.3847 - accuracy: 0.8125\n",
            "Epoch 00079: val_loss did not improve from 0.44686\n",
            "10/10 [==============================] - 0s 8ms/step - loss: 0.3217 - accuracy: 0.8946 - val_loss: 0.5325 - val_accuracy: 0.9531\n",
            "Epoch 80/100\n",
            " 1/10 [==>...........................] - ETA: 0s - loss: 0.2761 - accuracy: 0.8750\n",
            "Epoch 00080: val_loss did not improve from 0.44686\n",
            "10/10 [==============================] - 0s 7ms/step - loss: 0.3270 - accuracy: 0.8741 - val_loss: 0.5373 - val_accuracy: 0.9375\n",
            "Epoch 81/100\n",
            "10/10 [==============================] - ETA: 0s - loss: 0.3040 - accuracy: 0.8844\n",
            "Epoch 00081: val_loss did not improve from 0.44686\n",
            "10/10 [==============================] - 0s 9ms/step - loss: 0.3040 - accuracy: 0.8844 - val_loss: 0.5413 - val_accuracy: 0.9531\n",
            "Epoch 82/100\n",
            " 1/10 [==>...........................] - ETA: 0s - loss: 0.2606 - accuracy: 0.9062\n",
            "Epoch 00082: val_loss did not improve from 0.44686\n",
            "10/10 [==============================] - 0s 7ms/step - loss: 0.3613 - accuracy: 0.8912 - val_loss: 0.5388 - val_accuracy: 0.9375\n",
            "Epoch 83/100\n",
            " 1/10 [==>...........................] - ETA: 0s - loss: 0.4323 - accuracy: 0.8750\n",
            "Epoch 00083: val_loss did not improve from 0.44686\n",
            "10/10 [==============================] - 0s 9ms/step - loss: 0.3092 - accuracy: 0.8946 - val_loss: 0.5303 - val_accuracy: 0.9219\n",
            "Epoch 84/100\n",
            " 1/10 [==>...........................] - ETA: 0s - loss: 0.4125 - accuracy: 0.7500\n",
            "Epoch 00084: val_loss did not improve from 0.44686\n",
            "10/10 [==============================] - 0s 8ms/step - loss: 0.2655 - accuracy: 0.8878 - val_loss: 0.5330 - val_accuracy: 0.9219\n",
            "Epoch 85/100\n",
            " 1/10 [==>...........................] - ETA: 0s - loss: 0.1963 - accuracy: 0.9062\n",
            "Epoch 00085: val_loss did not improve from 0.44686\n",
            "10/10 [==============================] - 0s 7ms/step - loss: 0.3253 - accuracy: 0.8776 - val_loss: 0.5368 - val_accuracy: 0.9375\n",
            "Epoch 86/100\n",
            " 1/10 [==>...........................] - ETA: 0s - loss: 0.2238 - accuracy: 0.8750\n",
            "Epoch 00086: val_loss did not improve from 0.44686\n",
            "10/10 [==============================] - 0s 8ms/step - loss: 0.2955 - accuracy: 0.9014 - val_loss: 0.5434 - val_accuracy: 0.9375\n",
            "Epoch 87/100\n",
            " 1/10 [==>...........................] - ETA: 0s - loss: 0.6115 - accuracy: 0.9375\n",
            "Epoch 00087: val_loss did not improve from 0.44686\n",
            "10/10 [==============================] - 0s 7ms/step - loss: 0.2964 - accuracy: 0.9116 - val_loss: 0.5460 - val_accuracy: 0.9375\n",
            "Epoch 88/100\n",
            " 1/10 [==>...........................] - ETA: 0s - loss: 0.5562 - accuracy: 0.8750\n",
            "Epoch 00088: val_loss did not improve from 0.44686\n",
            "10/10 [==============================] - 0s 7ms/step - loss: 0.3797 - accuracy: 0.8776 - val_loss: 0.5473 - val_accuracy: 0.9375\n",
            "Epoch 89/100\n",
            " 1/10 [==>...........................] - ETA: 0s - loss: 0.1868 - accuracy: 0.9375\n",
            "Epoch 00089: val_loss did not improve from 0.44686\n",
            "10/10 [==============================] - 0s 7ms/step - loss: 0.2983 - accuracy: 0.9048 - val_loss: 0.5520 - val_accuracy: 0.9531\n",
            "Epoch 90/100\n",
            " 1/10 [==>...........................] - ETA: 0s - loss: 0.4930 - accuracy: 0.8438\n",
            "Epoch 00090: val_loss did not improve from 0.44686\n",
            "10/10 [==============================] - 0s 7ms/step - loss: 0.3409 - accuracy: 0.8946 - val_loss: 0.5604 - val_accuracy: 0.9531\n",
            "Epoch 91/100\n",
            " 1/10 [==>...........................] - ETA: 0s - loss: 0.1510 - accuracy: 0.9375\n",
            "Epoch 00091: val_loss did not improve from 0.44686\n",
            "10/10 [==============================] - 0s 7ms/step - loss: 0.2525 - accuracy: 0.9014 - val_loss: 0.5687 - val_accuracy: 0.9375\n",
            "Epoch 92/100\n",
            " 1/10 [==>...........................] - ETA: 0s - loss: 0.2382 - accuracy: 0.9062\n",
            "Epoch 00092: val_loss did not improve from 0.44686\n",
            "10/10 [==============================] - 0s 7ms/step - loss: 0.2581 - accuracy: 0.9082 - val_loss: 0.5724 - val_accuracy: 0.9375\n",
            "Epoch 93/100\n",
            " 9/10 [==========================>...] - ETA: 0s - loss: 0.2896 - accuracy: 0.9132\n",
            "Epoch 00093: val_loss did not improve from 0.44686\n",
            "10/10 [==============================] - 0s 9ms/step - loss: 0.2953 - accuracy: 0.9116 - val_loss: 0.5770 - val_accuracy: 0.9531\n",
            "Epoch 94/100\n",
            " 1/10 [==>...........................] - ETA: 0s - loss: 0.4044 - accuracy: 0.8438\n",
            "Epoch 00094: val_loss did not improve from 0.44686\n",
            "10/10 [==============================] - 0s 7ms/step - loss: 0.2481 - accuracy: 0.9048 - val_loss: 0.5821 - val_accuracy: 0.9531\n",
            "Epoch 95/100\n",
            " 1/10 [==>...........................] - ETA: 0s - loss: 0.4329 - accuracy: 0.8438\n",
            "Epoch 00095: val_loss did not improve from 0.44686\n",
            "10/10 [==============================] - 0s 7ms/step - loss: 0.3016 - accuracy: 0.8946 - val_loss: 0.5841 - val_accuracy: 0.9531\n",
            "Epoch 96/100\n",
            " 1/10 [==>...........................] - ETA: 0s - loss: 0.0449 - accuracy: 1.0000\n",
            "Epoch 00096: val_loss did not improve from 0.44686\n",
            "10/10 [==============================] - 0s 7ms/step - loss: 0.2255 - accuracy: 0.9184 - val_loss: 0.5832 - val_accuracy: 0.9531\n",
            "Epoch 97/100\n",
            " 1/10 [==>...........................] - ETA: 0s - loss: 0.1023 - accuracy: 0.9688\n",
            "Epoch 00097: val_loss did not improve from 0.44686\n",
            "10/10 [==============================] - 0s 8ms/step - loss: 0.2393 - accuracy: 0.8878 - val_loss: 0.5813 - val_accuracy: 0.9531\n",
            "Epoch 98/100\n",
            " 1/10 [==>...........................] - ETA: 0s - loss: 0.2717 - accuracy: 0.8750\n",
            "Epoch 00098: val_loss did not improve from 0.44686\n",
            "10/10 [==============================] - 0s 8ms/step - loss: 0.2756 - accuracy: 0.9150 - val_loss: 0.5911 - val_accuracy: 0.9531\n",
            "Epoch 99/100\n",
            " 1/10 [==>...........................] - ETA: 0s - loss: 0.0792 - accuracy: 1.0000\n",
            "Epoch 00099: val_loss did not improve from 0.44686\n",
            "10/10 [==============================] - 0s 7ms/step - loss: 0.2773 - accuracy: 0.9082 - val_loss: 0.5943 - val_accuracy: 0.9531\n",
            "Epoch 100/100\n",
            " 1/10 [==>...........................] - ETA: 0s - loss: 0.1063 - accuracy: 1.0000\n",
            "Epoch 00100: val_loss did not improve from 0.44686\n",
            "10/10 [==============================] - 0s 8ms/step - loss: 0.1867 - accuracy: 0.9388 - val_loss: 0.5935 - val_accuracy: 0.9531\n",
            "Training completed in time:  0:00:11.377297\n"
          ]
        }
      ]
    },
    {
      "cell_type": "code",
      "source": [
        "test_accuracy=model.evaluate(X_test_features,y_test,verbose=0)\n",
        "print(test_accuracy)"
      ],
      "metadata": {
        "colab": {
          "base_uri": "https://localhost:8080/"
        },
        "id": "w94EECEdsydg",
        "outputId": "606e4d24-6919-424f-ef8b-d9da5da5c919"
      },
      "execution_count": 21,
      "outputs": [
        {
          "output_type": "stream",
          "name": "stdout",
          "text": [
            "[0.59354168176651, 0.953125]\n"
          ]
        }
      ]
    },
    {
      "cell_type": "code",
      "source": [
        "predictions = model.predict(x=X_test_features)\n",
        "print(classification_report(y_test.argmax(axis=1),\n",
        "\tpredictions.argmax(axis=1), target_names=lb.classes_))"
      ],
      "metadata": {
        "colab": {
          "base_uri": "https://localhost:8080/"
        },
        "id": "-uqxtGQHs8xt",
        "outputId": "2145df25-1e20-4002-a64c-abe7de85e684"
      },
      "execution_count": 22,
      "outputs": [
        {
          "output_type": "stream",
          "name": "stdout",
          "text": [
            "              precision    recall  f1-score   support\n",
            "\n",
            " atmospheric       1.00      1.00      1.00        16\n",
            "  non_scream       0.91      0.95      0.93        22\n",
            "      scream       0.96      0.92      0.94        26\n",
            "\n",
            "    accuracy                           0.95        64\n",
            "   macro avg       0.96      0.96      0.96        64\n",
            "weighted avg       0.95      0.95      0.95        64\n",
            "\n"
          ]
        }
      ]
    },
    {
      "cell_type": "code",
      "source": [
        "N = 100\n",
        "plt.style.use(\"ggplot\")\n",
        "\n",
        "plt.figure()\n",
        "plt.plot(np.arange(0, N), history.history[\"loss\"], label=\"train_loss\")\n",
        "plt.plot(np.arange(0, N), history.history[\"val_loss\"], label=\"val_loss\")\n",
        "plt.plot(np.arange(0, N), history.history[\"accuracy\"], label=\"train_acc\")\n",
        "plt.plot(np.arange(0, N), history.history[\"val_accuracy\"], label=\"val_acc\")\n",
        "plt.ylim(0,1.5)\n",
        "plt.xlim(0,100)\n",
        "plt.title(\"Training Loss and Accuracy on Dataset\")\n",
        "plt.ylabel(\"Loss/Accuracy\")\n",
        "plt.legend(loc=\"lower left\")\n",
        "#plotPath = r'E:\\Rohan\\Sem 7\\Minor Project\\Major Project\\Model'\n",
        "plt.show()"
      ],
      "metadata": {
        "colab": {
          "base_uri": "https://localhost:8080/",
          "height": 282
        },
        "id": "OjUDUqKm0x3C",
        "outputId": "27887d28-6800-4f59-d0b7-72957997c9ee"
      },
      "execution_count": 23,
      "outputs": [
        {
          "output_type": "display_data",
          "data": {
            "image/png": "[encoded data removed]",
            "text/plain": [
              "<Figure size 432x288 with 1 Axes>"
            ]
          },
          "metadata": {}
        }
      ]
    },
    {
      "cell_type": "code",
      "source": [
        ""
      ],
      "metadata": {
        "id": "baBmIw181Cfl"
      },
      "execution_count": 23,
      "outputs": []
    }
  ]
}